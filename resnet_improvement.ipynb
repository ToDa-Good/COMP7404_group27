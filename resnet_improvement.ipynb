{
 "cells": [
  {
   "cell_type": "code",
   "execution_count": 2,
   "id": "de40e57c-7068-418a-b261-f616e4747f7a",
   "metadata": {
    "tags": []
   },
   "outputs": [],
   "source": [
    "import torch\n",
    "import torch.nn as nn\n",
    "import torch.optim as optim\n",
    "from torch.utils.data import DataLoader\n",
    "from torchvision import datasets, transforms\n",
    "import matplotlib.pyplot as plt\n",
    "import numpy as np\n",
    "from tqdm import tqdm\n"
   ]
  },
  {
   "cell_type": "code",
   "execution_count": 3,
   "id": "c8ef302a-608b-42e3-a88b-93dc8b52a8d1",
   "metadata": {
    "tags": []
   },
   "outputs": [
    {
     "name": "stdout",
     "output_type": "stream",
     "text": [
      "Using device: cuda\n"
     ]
    }
   ],
   "source": [
    "device = torch.device(\"cuda\" if torch.cuda.is_available() else \"cpu\")\n",
    "print(f\"Using device: {device}\")"
   ]
  },
  {
   "cell_type": "code",
   "execution_count": 4,
   "id": "67d789d8-dad0-489c-8945-be62934a62f6",
   "metadata": {
    "tags": []
   },
   "outputs": [
    {
     "name": "stdout",
     "output_type": "stream",
     "text": [
      "Downloading https://www.cs.toronto.edu/~kriz/cifar-10-python.tar.gz to ./data/cifar-10-python.tar.gz\n"
     ]
    },
    {
     "name": "stderr",
     "output_type": "stream",
     "text": [
      "100%|███████████████████████████████████████████████████████████████| 170498071/170498071 [00:15<00:00, 11029282.80it/s]\n"
     ]
    },
    {
     "name": "stdout",
     "output_type": "stream",
     "text": [
      "Extracting ./data/cifar-10-python.tar.gz to ./data\n",
      "Files already downloaded and verified\n"
     ]
    }
   ],
   "source": [
    "transform_train = transforms.Compose([\n",
    "    transforms.RandomCrop(32, padding=4),\n",
    "    transforms.RandomHorizontalFlip(),\n",
    "    transforms.ToTensor(),\n",
    "    transforms.Normalize((0.4914, 0.4822, 0.4465), (0.2470, 0.2435, 0.2616)),\n",
    "])\n",
    "\n",
    "transform_test = transforms.Compose([\n",
    "    transforms.ToTensor(),\n",
    "    transforms.Normalize((0.4914, 0.4822, 0.4465), (0.2470, 0.2435, 0.2616)),\n",
    "])\n",
    "\n",
    "train_dataset = datasets.CIFAR10(root='./data', train=True, download=True, transform=transform_train)\n",
    "test_dataset = datasets.CIFAR10(root='./data', train=False, download=True, transform=transform_test)\n",
    "\n",
    "batch_size = 128\n",
    "train_loader = DataLoader(train_dataset, batch_size=batch_size, shuffle=True, num_workers=4, pin_memory=True)\n",
    "test_loader = DataLoader(test_dataset, batch_size=batch_size, shuffle=False, num_workers=4, pin_memory=True)"
   ]
  },
  {
   "cell_type": "code",
   "execution_count": 5,
   "id": "a7b6d617-d921-435a-8492-d534bd17f72b",
   "metadata": {
    "tags": []
   },
   "outputs": [],
   "source": [
    "class BasicBlock(nn.Module):\n",
    "    expansion = 1\n",
    "\n",
    "    def __init__(self, in_planes, planes, stride=1):\n",
    "        super().__init__()\n",
    "        self.conv1 = nn.Conv2d(in_planes, planes, kernel_size=3, stride=stride, padding=1, bias=False)\n",
    "        self.bn1 = nn.BatchNorm2d(planes)\n",
    "        self.conv2 = nn.Conv2d(planes, planes, kernel_size=3, stride=1, padding=1, bias=False)\n",
    "        self.bn2 = nn.BatchNorm2d(planes)\n",
    "\n",
    "        self.shortcut = nn.Sequential()\n",
    "        if stride != 1 or in_planes != self.expansion*planes:\n",
    "            self.shortcut = nn.Sequential(\n",
    "                nn.Conv2d(in_planes, self.expansion*planes, kernel_size=1, stride=stride, bias=False),\n",
    "                nn.BatchNorm2d(self.expansion*planes)\n",
    "            )\n",
    "\n",
    "    def forward(self, x):\n",
    "        out = torch.relu(self.bn1(self.conv1(x)))\n",
    "        out = self.bn2(self.conv2(out))\n",
    "        out += self.shortcut(x)\n",
    "        return torch.relu(out)"
   ]
  },
  {
   "cell_type": "code",
   "execution_count": 6,
   "id": "e29b1680-4883-4a15-9851-96fe40dd80e6",
   "metadata": {
    "tags": []
   },
   "outputs": [],
   "source": [
    "class ResNeXtBlock(nn.Module):\n",
    "    expansion = 1\n",
    "\n",
    "    def __init__(self, in_planes, planes, stride=1, cardinality=32):\n",
    "        super().__init__()\n",
    "        group_width = planes // cardinality\n",
    "        self.conv1 = nn.Conv2d(in_planes, group_width*cardinality, kernel_size=1, bias=False)\n",
    "        self.bn1 = nn.BatchNorm2d(group_width*cardinality)\n",
    "        self.conv2 = nn.Conv2d(group_width*cardinality, group_width*cardinality, kernel_size=3, \n",
    "                              stride=stride, padding=1, groups=cardinality, bias=False)\n",
    "        self.bn2 = nn.BatchNorm2d(group_width*cardinality)\n",
    "        self.conv3 = nn.Conv2d(group_width*cardinality, planes*self.expansion, kernel_size=1, bias=False)\n",
    "        self.bn3 = nn.BatchNorm2d(planes*self.expansion)\n",
    "\n",
    "        self.shortcut = nn.Sequential()\n",
    "        if stride != 1 or in_planes != planes*self.expansion:\n",
    "            self.shortcut = nn.Sequential(\n",
    "                nn.Conv2d(in_planes, planes*self.expansion, kernel_size=1, stride=stride, bias=False),\n",
    "                nn.BatchNorm2d(planes*self.expansion)\n",
    "            )\n",
    "\n",
    "    def forward(self, x):\n",
    "        out = torch.relu(self.bn1(self.conv1(x)))\n",
    "        out = torch.relu(self.bn2(self.conv2(out)))\n",
    "        out = self.bn3(self.conv3(out))\n",
    "        out += self.shortcut(x)\n",
    "        return torch.relu(out)"
   ]
  },
  {
   "cell_type": "code",
   "execution_count": 7,
   "id": "86b2692a-8476-41bc-b752-1e7198fe0334",
   "metadata": {
    "tags": []
   },
   "outputs": [],
   "source": [
    "class SEBlock(nn.Module):\n",
    "    def __init__(self, channels, reduction=16):\n",
    "        super().__init__()\n",
    "        self.avg_pool = nn.AdaptiveAvgPool2d(1)\n",
    "        self.fc = nn.Sequential(\n",
    "            nn.Linear(channels, channels // reduction),\n",
    "            nn.ReLU(inplace=True),\n",
    "            nn.Linear(channels // reduction, channels),\n",
    "            nn.Sigmoid()\n",
    "        )\n",
    "\n",
    "    def forward(self, x):\n",
    "        b, c, _, _ = x.size()\n",
    "        y = self.avg_pool(x).view(b, c)\n",
    "        y = self.fc(y).view(b, c, 1, 1)\n",
    "        return x * y.expand_as(x)\n",
    "\n",
    "class SEResNetBlock(nn.Module):\n",
    "    expansion = 1\n",
    "\n",
    "    def __init__(self, in_planes, planes, stride=1):\n",
    "        super().__init__()\n",
    "        self.conv1 = nn.Conv2d(in_planes, planes, kernel_size=3, stride=stride, padding=1, bias=False)\n",
    "        self.bn1 = nn.BatchNorm2d(planes)\n",
    "        self.conv2 = nn.Conv2d(planes, planes, kernel_size=3, stride=1, padding=1, bias=False)\n",
    "        self.bn2 = nn.BatchNorm2d(planes)\n",
    "        self.se = SEBlock(planes)\n",
    "\n",
    "        self.shortcut = nn.Sequential()\n",
    "        if stride != 1 or in_planes != self.expansion*planes:\n",
    "            self.shortcut = nn.Sequential(\n",
    "                nn.Conv2d(in_planes, self.expansion*planes, kernel_size=1, stride=stride, bias=False),\n",
    "                nn.BatchNorm2d(self.expansion*planes)\n",
    "            )\n",
    "\n",
    "    def forward(self, x):\n",
    "        out = torch.relu(self.bn1(self.conv1(x)))\n",
    "        out = self.bn2(self.conv2(out))\n",
    "        out = self.se(out)\n",
    "        out += self.shortcut(x)\n",
    "        return torch.relu(out)"
   ]
  },
  {
   "cell_type": "code",
   "execution_count": 8,
   "id": "ee04de34-8606-41b7-a0b5-29cf6d3dc4cf",
   "metadata": {
    "tags": []
   },
   "outputs": [],
   "source": [
    "class StochasticDepth(nn.Module):\n",
    "    def __init__(self, p=0.5):\n",
    "        super().__init__()\n",
    "        self.p = p\n",
    "        \n",
    "    def forward(self, x):\n",
    "        if not self.training:\n",
    "            return x\n",
    "            \n",
    "        binary_tensor = torch.rand(x.size(0), 1, 1, 1, device=x.device) < self.p\n",
    "        return x * binary_tensor / self.p\n",
    "\n",
    "class SDResNetBlock(nn.Module):\n",
    "    expansion = 1\n",
    "\n",
    "    def __init__(self, in_planes, planes, stride=1, p=0.5):\n",
    "        super().__init__()\n",
    "        self.conv1 = nn.Conv2d(in_planes, planes, kernel_size=3, stride=stride, padding=1, bias=False)\n",
    "        self.bn1 = nn.BatchNorm2d(planes)\n",
    "        self.conv2 = nn.Conv2d(planes, planes, kernel_size=3, stride=1, padding=1, bias=False)\n",
    "        self.bn2 = nn.BatchNorm2d(planes)\n",
    "        self.sd = StochasticDepth(p)\n",
    "\n",
    "        self.shortcut = nn.Sequential()\n",
    "        if stride != 1 or in_planes != self.expansion*planes:\n",
    "            self.shortcut = nn.Sequential(\n",
    "                nn.Conv2d(in_planes, self.expansion*planes, kernel_size=1, stride=stride, bias=False),\n",
    "                nn.BatchNorm2d(self.expansion*planes)\n",
    "            )\n",
    "\n",
    "    def forward(self, x):\n",
    "        out = torch.relu(self.bn1(self.conv1(x)))\n",
    "        out = self.bn2(self.conv2(out))\n",
    "        out = self.sd(out)\n",
    "        out += self.shortcut(x)\n",
    "        return torch.relu(out)"
   ]
  },
  {
   "cell_type": "code",
   "execution_count": 10,
   "id": "2b19d1a6-9c23-445f-a905-88aa909d2814",
   "metadata": {
    "tags": []
   },
   "outputs": [],
   "source": [
    "class ResNet(nn.Module):\n",
    "    def __init__(self, block, num_blocks, num_classes=10, **kwargs):\n",
    "        super().__init__()\n",
    "        self.in_planes = 64\n",
    "\n",
    "        self.conv1 = nn.Conv2d(3, 64, kernel_size=3, stride=1, padding=1, bias=False)\n",
    "        self.bn1 = nn.BatchNorm2d(64)\n",
    "        self.layer1 = self._make_layer(block, 64, num_blocks[0], stride=1, **kwargs)\n",
    "        self.layer2 = self._make_layer(block, 128, num_blocks[1], stride=2, **kwargs)\n",
    "        self.layer3 = self._make_layer(block, 256, num_blocks[2], stride=2, **kwargs)\n",
    "        self.layer4 = self._make_layer(block, 512, num_blocks[3], stride=2, **kwargs)\n",
    "        self.linear = nn.Linear(512*block.expansion, num_classes)\n",
    "\n",
    "    def _make_layer(self, block, planes, num_blocks, stride, **kwargs):\n",
    "        strides = [stride] + [1]*(num_blocks-1)\n",
    "        layers = []\n",
    "        for stride in strides:\n",
    "            layers.append(block(self.in_planes, planes, stride, **kwargs))\n",
    "            self.in_planes = planes * block.expansion\n",
    "        return nn.Sequential(*layers)\n",
    "\n",
    "    def forward(self, x):\n",
    "        out = torch.relu(self.bn1(self.conv1(x)))\n",
    "        out = self.layer1(out)\n",
    "        out = self.layer2(out)\n",
    "        out = self.layer3(out)\n",
    "        out = self.layer4(out)\n",
    "        out = nn.functional.avg_pool2d(out, 4)\n",
    "        out = out.view(out.size(0), -1)\n",
    "        out = self.linear(out)\n",
    "        return out"
   ]
  },
  {
   "cell_type": "code",
   "execution_count": 11,
   "id": "d8631f05-b763-4177-a6a7-2cff3bc4eb24",
   "metadata": {
    "tags": []
   },
   "outputs": [],
   "source": [
    "def train(model, loader, optimizer, criterion):\n",
    "    model.train()\n",
    "    total_loss = 0\n",
    "    correct = 0\n",
    "    total = 0\n",
    "    \n",
    "    for inputs, targets in tqdm(loader, desc=\"Training\"):\n",
    "        inputs, targets = inputs.to(device), targets.to(device)\n",
    "        \n",
    "        optimizer.zero_grad()\n",
    "        outputs = model(inputs)\n",
    "        loss = criterion(outputs, targets)\n",
    "        loss.backward()\n",
    "        optimizer.step()\n",
    "        \n",
    "        total_loss += loss.item()\n",
    "        _, predicted = outputs.max(1)\n",
    "        total += targets.size(0)\n",
    "        correct += predicted.eq(targets).sum().item()\n",
    "    \n",
    "    return total_loss/len(loader), 100.*correct/total\n",
    "\n",
    "def test(model, loader, criterion):\n",
    "    model.eval()\n",
    "    total_loss = 0\n",
    "    correct = 0\n",
    "    total = 0\n",
    "    \n",
    "    with torch.no_grad():\n",
    "        for inputs, targets in tqdm(loader, desc=\"Testing\"):\n",
    "            inputs, targets = inputs.to(device), targets.to(device)\n",
    "            outputs = model(inputs)\n",
    "            loss = criterion(outputs, targets)\n",
    "            \n",
    "            total_loss += loss.item()\n",
    "            _, predicted = outputs.max(1)\n",
    "            total += targets.size(0)\n",
    "            correct += predicted.eq(targets).sum().item()\n",
    "    \n",
    "    return total_loss/len(loader), 100.*correct/total"
   ]
  },
  {
   "cell_type": "code",
   "execution_count": 12,
   "id": "ff3f39f4-a666-4a11-91bb-b1d4129fdfd5",
   "metadata": {
    "tags": []
   },
   "outputs": [
    {
     "name": "stdout",
     "output_type": "stream",
     "text": [
      "\n",
      "Training Original ResNet...\n"
     ]
    },
    {
     "name": "stderr",
     "output_type": "stream",
     "text": [
      "Training: 100%|███████████████████████████████████████████████████████████████████████| 391/391 [01:01<00:00,  6.37it/s]\n",
      "Testing: 100%|██████████████████████████████████████████████████████████████████████████| 79/79 [00:07<00:00, 11.22it/s]\n"
     ]
    },
    {
     "name": "stdout",
     "output_type": "stream",
     "text": [
      "Epoch 1/50 | Test Acc: 40.86%\n"
     ]
    },
    {
     "name": "stderr",
     "output_type": "stream",
     "text": [
      "Training: 100%|███████████████████████████████████████████████████████████████████████| 391/391 [00:16<00:00, 23.19it/s]\n",
      "Testing: 100%|██████████████████████████████████████████████████████████████████████████| 79/79 [00:01<00:00, 46.04it/s]\n"
     ]
    },
    {
     "name": "stdout",
     "output_type": "stream",
     "text": [
      "Epoch 2/50 | Test Acc: 48.90%\n"
     ]
    },
    {
     "name": "stderr",
     "output_type": "stream",
     "text": [
      "Training: 100%|███████████████████████████████████████████████████████████████████████| 391/391 [00:17<00:00, 22.71it/s]\n",
      "Testing: 100%|██████████████████████████████████████████████████████████████████████████| 79/79 [00:01<00:00, 41.17it/s]\n"
     ]
    },
    {
     "name": "stdout",
     "output_type": "stream",
     "text": [
      "Epoch 3/50 | Test Acc: 60.25%\n"
     ]
    },
    {
     "name": "stderr",
     "output_type": "stream",
     "text": [
      "Training: 100%|███████████████████████████████████████████████████████████████████████| 391/391 [00:17<00:00, 22.84it/s]\n",
      "Testing: 100%|██████████████████████████████████████████████████████████████████████████| 79/79 [00:01<00:00, 47.21it/s]\n"
     ]
    },
    {
     "name": "stdout",
     "output_type": "stream",
     "text": [
      "Epoch 4/50 | Test Acc: 65.51%\n"
     ]
    },
    {
     "name": "stderr",
     "output_type": "stream",
     "text": [
      "Training: 100%|███████████████████████████████████████████████████████████████████████| 391/391 [00:17<00:00, 22.44it/s]\n",
      "Testing: 100%|██████████████████████████████████████████████████████████████████████████| 79/79 [00:01<00:00, 42.64it/s]\n"
     ]
    },
    {
     "name": "stdout",
     "output_type": "stream",
     "text": [
      "Epoch 5/50 | Test Acc: 72.09%\n"
     ]
    },
    {
     "name": "stderr",
     "output_type": "stream",
     "text": [
      "Training: 100%|███████████████████████████████████████████████████████████████████████| 391/391 [00:17<00:00, 22.41it/s]\n",
      "Testing: 100%|██████████████████████████████████████████████████████████████████████████| 79/79 [00:01<00:00, 44.31it/s]\n"
     ]
    },
    {
     "name": "stdout",
     "output_type": "stream",
     "text": [
      "Epoch 6/50 | Test Acc: 71.32%\n"
     ]
    },
    {
     "name": "stderr",
     "output_type": "stream",
     "text": [
      "Training: 100%|███████████████████████████████████████████████████████████████████████| 391/391 [00:17<00:00, 22.16it/s]\n",
      "Testing: 100%|██████████████████████████████████████████████████████████████████████████| 79/79 [00:01<00:00, 44.97it/s]\n"
     ]
    },
    {
     "name": "stdout",
     "output_type": "stream",
     "text": [
      "Epoch 7/50 | Test Acc: 74.71%\n"
     ]
    },
    {
     "name": "stderr",
     "output_type": "stream",
     "text": [
      "Training: 100%|███████████████████████████████████████████████████████████████████████| 391/391 [00:17<00:00, 22.33it/s]\n",
      "Testing: 100%|██████████████████████████████████████████████████████████████████████████| 79/79 [00:01<00:00, 44.78it/s]\n"
     ]
    },
    {
     "name": "stdout",
     "output_type": "stream",
     "text": [
      "Epoch 8/50 | Test Acc: 75.17%\n"
     ]
    },
    {
     "name": "stderr",
     "output_type": "stream",
     "text": [
      "Training: 100%|███████████████████████████████████████████████████████████████████████| 391/391 [00:17<00:00, 22.00it/s]\n",
      "Testing: 100%|██████████████████████████████████████████████████████████████████████████| 79/79 [00:01<00:00, 43.40it/s]\n"
     ]
    },
    {
     "name": "stdout",
     "output_type": "stream",
     "text": [
      "Epoch 9/50 | Test Acc: 78.81%\n"
     ]
    },
    {
     "name": "stderr",
     "output_type": "stream",
     "text": [
      "Training: 100%|███████████████████████████████████████████████████████████████████████| 391/391 [00:17<00:00, 22.15it/s]\n",
      "Testing: 100%|██████████████████████████████████████████████████████████████████████████| 79/79 [00:01<00:00, 41.14it/s]\n"
     ]
    },
    {
     "name": "stdout",
     "output_type": "stream",
     "text": [
      "Epoch 10/50 | Test Acc: 81.54%\n"
     ]
    },
    {
     "name": "stderr",
     "output_type": "stream",
     "text": [
      "Training: 100%|███████████████████████████████████████████████████████████████████████| 391/391 [00:17<00:00, 22.33it/s]\n",
      "Testing: 100%|██████████████████████████████████████████████████████████████████████████| 79/79 [00:01<00:00, 43.11it/s]\n"
     ]
    },
    {
     "name": "stdout",
     "output_type": "stream",
     "text": [
      "Epoch 11/50 | Test Acc: 80.26%\n"
     ]
    },
    {
     "name": "stderr",
     "output_type": "stream",
     "text": [
      "Training: 100%|███████████████████████████████████████████████████████████████████████| 391/391 [00:17<00:00, 22.17it/s]\n",
      "Testing: 100%|██████████████████████████████████████████████████████████████████████████| 79/79 [00:01<00:00, 41.07it/s]\n"
     ]
    },
    {
     "name": "stdout",
     "output_type": "stream",
     "text": [
      "Epoch 12/50 | Test Acc: 80.92%\n"
     ]
    },
    {
     "name": "stderr",
     "output_type": "stream",
     "text": [
      "Training: 100%|███████████████████████████████████████████████████████████████████████| 391/391 [00:17<00:00, 22.16it/s]\n",
      "Testing: 100%|██████████████████████████████████████████████████████████████████████████| 79/79 [00:01<00:00, 42.21it/s]\n"
     ]
    },
    {
     "name": "stdout",
     "output_type": "stream",
     "text": [
      "Epoch 13/50 | Test Acc: 79.91%\n"
     ]
    },
    {
     "name": "stderr",
     "output_type": "stream",
     "text": [
      "Training: 100%|███████████████████████████████████████████████████████████████████████| 391/391 [00:17<00:00, 22.10it/s]\n",
      "Testing: 100%|██████████████████████████████████████████████████████████████████████████| 79/79 [00:01<00:00, 43.43it/s]\n"
     ]
    },
    {
     "name": "stdout",
     "output_type": "stream",
     "text": [
      "Epoch 14/50 | Test Acc: 79.42%\n"
     ]
    },
    {
     "name": "stderr",
     "output_type": "stream",
     "text": [
      "Training: 100%|███████████████████████████████████████████████████████████████████████| 391/391 [00:17<00:00, 22.26it/s]\n",
      "Testing: 100%|██████████████████████████████████████████████████████████████████████████| 79/79 [00:01<00:00, 40.61it/s]\n"
     ]
    },
    {
     "name": "stdout",
     "output_type": "stream",
     "text": [
      "Epoch 15/50 | Test Acc: 79.73%\n"
     ]
    },
    {
     "name": "stderr",
     "output_type": "stream",
     "text": [
      "Training: 100%|███████████████████████████████████████████████████████████████████████| 391/391 [00:17<00:00, 22.06it/s]\n",
      "Testing: 100%|██████████████████████████████████████████████████████████████████████████| 79/79 [00:01<00:00, 41.88it/s]\n"
     ]
    },
    {
     "name": "stdout",
     "output_type": "stream",
     "text": [
      "Epoch 16/50 | Test Acc: 79.84%\n"
     ]
    },
    {
     "name": "stderr",
     "output_type": "stream",
     "text": [
      "Training: 100%|███████████████████████████████████████████████████████████████████████| 391/391 [00:18<00:00, 21.56it/s]\n",
      "Testing: 100%|██████████████████████████████████████████████████████████████████████████| 79/79 [00:01<00:00, 43.64it/s]\n"
     ]
    },
    {
     "name": "stdout",
     "output_type": "stream",
     "text": [
      "Epoch 17/50 | Test Acc: 80.99%\n"
     ]
    },
    {
     "name": "stderr",
     "output_type": "stream",
     "text": [
      "Training: 100%|███████████████████████████████████████████████████████████████████████| 391/391 [00:17<00:00, 21.97it/s]\n",
      "Testing: 100%|██████████████████████████████████████████████████████████████████████████| 79/79 [00:01<00:00, 46.47it/s]\n"
     ]
    },
    {
     "name": "stdout",
     "output_type": "stream",
     "text": [
      "Epoch 18/50 | Test Acc: 83.20%\n"
     ]
    },
    {
     "name": "stderr",
     "output_type": "stream",
     "text": [
      "Training: 100%|███████████████████████████████████████████████████████████████████████| 391/391 [00:17<00:00, 22.12it/s]\n",
      "Testing: 100%|██████████████████████████████████████████████████████████████████████████| 79/79 [00:01<00:00, 40.31it/s]\n"
     ]
    },
    {
     "name": "stdout",
     "output_type": "stream",
     "text": [
      "Epoch 19/50 | Test Acc: 82.67%\n"
     ]
    },
    {
     "name": "stderr",
     "output_type": "stream",
     "text": [
      "Training: 100%|███████████████████████████████████████████████████████████████████████| 391/391 [00:18<00:00, 21.63it/s]\n",
      "Testing: 100%|██████████████████████████████████████████████████████████████████████████| 79/79 [00:01<00:00, 45.71it/s]\n"
     ]
    },
    {
     "name": "stdout",
     "output_type": "stream",
     "text": [
      "Epoch 20/50 | Test Acc: 82.14%\n"
     ]
    },
    {
     "name": "stderr",
     "output_type": "stream",
     "text": [
      "Training: 100%|███████████████████████████████████████████████████████████████████████| 391/391 [00:17<00:00, 22.18it/s]\n",
      "Testing: 100%|██████████████████████████████████████████████████████████████████████████| 79/79 [00:01<00:00, 46.30it/s]\n"
     ]
    },
    {
     "name": "stdout",
     "output_type": "stream",
     "text": [
      "Epoch 21/50 | Test Acc: 82.22%\n"
     ]
    },
    {
     "name": "stderr",
     "output_type": "stream",
     "text": [
      "Training: 100%|███████████████████████████████████████████████████████████████████████| 391/391 [00:17<00:00, 22.13it/s]\n",
      "Testing: 100%|██████████████████████████████████████████████████████████████████████████| 79/79 [00:01<00:00, 41.54it/s]\n"
     ]
    },
    {
     "name": "stdout",
     "output_type": "stream",
     "text": [
      "Epoch 22/50 | Test Acc: 81.80%\n"
     ]
    },
    {
     "name": "stderr",
     "output_type": "stream",
     "text": [
      "Training: 100%|███████████████████████████████████████████████████████████████████████| 391/391 [00:17<00:00, 22.26it/s]\n",
      "Testing: 100%|██████████████████████████████████████████████████████████████████████████| 79/79 [00:01<00:00, 45.59it/s]\n"
     ]
    },
    {
     "name": "stdout",
     "output_type": "stream",
     "text": [
      "Epoch 23/50 | Test Acc: 85.11%\n"
     ]
    },
    {
     "name": "stderr",
     "output_type": "stream",
     "text": [
      "Training: 100%|███████████████████████████████████████████████████████████████████████| 391/391 [00:17<00:00, 21.90it/s]\n",
      "Testing: 100%|██████████████████████████████████████████████████████████████████████████| 79/79 [00:01<00:00, 41.98it/s]\n"
     ]
    },
    {
     "name": "stdout",
     "output_type": "stream",
     "text": [
      "Epoch 24/50 | Test Acc: 83.52%\n"
     ]
    },
    {
     "name": "stderr",
     "output_type": "stream",
     "text": [
      "Training: 100%|███████████████████████████████████████████████████████████████████████| 391/391 [00:17<00:00, 22.12it/s]\n",
      "Testing: 100%|██████████████████████████████████████████████████████████████████████████| 79/79 [00:01<00:00, 40.14it/s]\n"
     ]
    },
    {
     "name": "stdout",
     "output_type": "stream",
     "text": [
      "Epoch 25/50 | Test Acc: 80.38%\n"
     ]
    },
    {
     "name": "stderr",
     "output_type": "stream",
     "text": [
      "Training: 100%|███████████████████████████████████████████████████████████████████████| 391/391 [00:17<00:00, 22.30it/s]\n",
      "Testing: 100%|██████████████████████████████████████████████████████████████████████████| 79/79 [00:01<00:00, 46.37it/s]\n"
     ]
    },
    {
     "name": "stdout",
     "output_type": "stream",
     "text": [
      "Epoch 26/50 | Test Acc: 82.68%\n"
     ]
    },
    {
     "name": "stderr",
     "output_type": "stream",
     "text": [
      "Training: 100%|███████████████████████████████████████████████████████████████████████| 391/391 [00:17<00:00, 21.86it/s]\n",
      "Testing: 100%|██████████████████████████████████████████████████████████████████████████| 79/79 [00:01<00:00, 50.37it/s]\n"
     ]
    },
    {
     "name": "stdout",
     "output_type": "stream",
     "text": [
      "Epoch 27/50 | Test Acc: 80.37%\n"
     ]
    },
    {
     "name": "stderr",
     "output_type": "stream",
     "text": [
      "Training: 100%|███████████████████████████████████████████████████████████████████████| 391/391 [00:17<00:00, 21.81it/s]\n",
      "Testing: 100%|██████████████████████████████████████████████████████████████████████████| 79/79 [00:01<00:00, 45.09it/s]\n"
     ]
    },
    {
     "name": "stdout",
     "output_type": "stream",
     "text": [
      "Epoch 28/50 | Test Acc: 80.41%\n"
     ]
    },
    {
     "name": "stderr",
     "output_type": "stream",
     "text": [
      "Training: 100%|███████████████████████████████████████████████████████████████████████| 391/391 [00:17<00:00, 21.89it/s]\n",
      "Testing: 100%|██████████████████████████████████████████████████████████████████████████| 79/79 [00:02<00:00, 34.08it/s]\n"
     ]
    },
    {
     "name": "stdout",
     "output_type": "stream",
     "text": [
      "Epoch 29/50 | Test Acc: 84.64%\n"
     ]
    },
    {
     "name": "stderr",
     "output_type": "stream",
     "text": [
      "Training: 100%|███████████████████████████████████████████████████████████████████████| 391/391 [00:17<00:00, 21.82it/s]\n",
      "Testing: 100%|██████████████████████████████████████████████████████████████████████████| 79/79 [00:01<00:00, 43.13it/s]\n"
     ]
    },
    {
     "name": "stdout",
     "output_type": "stream",
     "text": [
      "Epoch 30/50 | Test Acc: 83.86%\n"
     ]
    },
    {
     "name": "stderr",
     "output_type": "stream",
     "text": [
      "Training: 100%|███████████████████████████████████████████████████████████████████████| 391/391 [00:17<00:00, 21.78it/s]\n",
      "Testing: 100%|██████████████████████████████████████████████████████████████████████████| 79/79 [00:01<00:00, 42.35it/s]\n"
     ]
    },
    {
     "name": "stdout",
     "output_type": "stream",
     "text": [
      "Epoch 31/50 | Test Acc: 91.49%\n"
     ]
    },
    {
     "name": "stderr",
     "output_type": "stream",
     "text": [
      "Training: 100%|███████████████████████████████████████████████████████████████████████| 391/391 [00:17<00:00, 22.18it/s]\n",
      "Testing: 100%|██████████████████████████████████████████████████████████████████████████| 79/79 [00:01<00:00, 46.94it/s]\n"
     ]
    },
    {
     "name": "stdout",
     "output_type": "stream",
     "text": [
      "Epoch 32/50 | Test Acc: 92.20%\n"
     ]
    },
    {
     "name": "stderr",
     "output_type": "stream",
     "text": [
      "Training: 100%|███████████████████████████████████████████████████████████████████████| 391/391 [00:17<00:00, 22.17it/s]\n",
      "Testing: 100%|██████████████████████████████████████████████████████████████████████████| 79/79 [00:01<00:00, 45.53it/s]\n"
     ]
    },
    {
     "name": "stdout",
     "output_type": "stream",
     "text": [
      "Epoch 33/50 | Test Acc: 92.07%\n"
     ]
    },
    {
     "name": "stderr",
     "output_type": "stream",
     "text": [
      "Training: 100%|███████████████████████████████████████████████████████████████████████| 391/391 [00:17<00:00, 21.98it/s]\n",
      "Testing: 100%|██████████████████████████████████████████████████████████████████████████| 79/79 [00:01<00:00, 41.67it/s]\n"
     ]
    },
    {
     "name": "stdout",
     "output_type": "stream",
     "text": [
      "Epoch 34/50 | Test Acc: 92.48%\n"
     ]
    },
    {
     "name": "stderr",
     "output_type": "stream",
     "text": [
      "Training: 100%|███████████████████████████████████████████████████████████████████████| 391/391 [00:17<00:00, 21.86it/s]\n",
      "Testing: 100%|██████████████████████████████████████████████████████████████████████████| 79/79 [00:03<00:00, 21.74it/s]\n"
     ]
    },
    {
     "name": "stdout",
     "output_type": "stream",
     "text": [
      "Epoch 35/50 | Test Acc: 92.88%\n"
     ]
    },
    {
     "name": "stderr",
     "output_type": "stream",
     "text": [
      "Training: 100%|███████████████████████████████████████████████████████████████████████| 391/391 [00:18<00:00, 21.22it/s]\n",
      "Testing: 100%|██████████████████████████████████████████████████████████████████████████| 79/79 [00:01<00:00, 41.08it/s]\n"
     ]
    },
    {
     "name": "stdout",
     "output_type": "stream",
     "text": [
      "Epoch 36/50 | Test Acc: 92.62%\n"
     ]
    },
    {
     "name": "stderr",
     "output_type": "stream",
     "text": [
      "Training: 100%|███████████████████████████████████████████████████████████████████████| 391/391 [00:17<00:00, 22.29it/s]\n",
      "Testing: 100%|██████████████████████████████████████████████████████████████████████████| 79/79 [00:01<00:00, 43.14it/s]\n"
     ]
    },
    {
     "name": "stdout",
     "output_type": "stream",
     "text": [
      "Epoch 37/50 | Test Acc: 92.67%\n"
     ]
    },
    {
     "name": "stderr",
     "output_type": "stream",
     "text": [
      "Training: 100%|███████████████████████████████████████████████████████████████████████| 391/391 [00:17<00:00, 21.79it/s]\n",
      "Testing: 100%|██████████████████████████████████████████████████████████████████████████| 79/79 [00:02<00:00, 27.30it/s]\n"
     ]
    },
    {
     "name": "stdout",
     "output_type": "stream",
     "text": [
      "Epoch 38/50 | Test Acc: 92.85%\n"
     ]
    },
    {
     "name": "stderr",
     "output_type": "stream",
     "text": [
      "Training: 100%|███████████████████████████████████████████████████████████████████████| 391/391 [00:20<00:00, 19.00it/s]\n",
      "Testing: 100%|██████████████████████████████████████████████████████████████████████████| 79/79 [00:01<00:00, 43.19it/s]\n"
     ]
    },
    {
     "name": "stdout",
     "output_type": "stream",
     "text": [
      "Epoch 39/50 | Test Acc: 92.74%\n"
     ]
    },
    {
     "name": "stderr",
     "output_type": "stream",
     "text": [
      "Training: 100%|███████████████████████████████████████████████████████████████████████| 391/391 [00:17<00:00, 22.16it/s]\n",
      "Testing: 100%|██████████████████████████████████████████████████████████████████████████| 79/79 [00:01<00:00, 43.20it/s]\n"
     ]
    },
    {
     "name": "stdout",
     "output_type": "stream",
     "text": [
      "Epoch 40/50 | Test Acc: 93.03%\n"
     ]
    },
    {
     "name": "stderr",
     "output_type": "stream",
     "text": [
      "Training: 100%|███████████████████████████████████████████████████████████████████████| 391/391 [00:17<00:00, 22.24it/s]\n",
      "Testing: 100%|██████████████████████████████████████████████████████████████████████████| 79/79 [00:02<00:00, 30.41it/s]\n"
     ]
    },
    {
     "name": "stdout",
     "output_type": "stream",
     "text": [
      "Epoch 41/50 | Test Acc: 93.44%\n"
     ]
    },
    {
     "name": "stderr",
     "output_type": "stream",
     "text": [
      "Training: 100%|███████████████████████████████████████████████████████████████████████| 391/391 [00:20<00:00, 19.47it/s]\n",
      "Testing: 100%|██████████████████████████████████████████████████████████████████████████| 79/79 [00:01<00:00, 43.88it/s]\n"
     ]
    },
    {
     "name": "stdout",
     "output_type": "stream",
     "text": [
      "Epoch 42/50 | Test Acc: 93.47%\n"
     ]
    },
    {
     "name": "stderr",
     "output_type": "stream",
     "text": [
      "Training: 100%|███████████████████████████████████████████████████████████████████████| 391/391 [00:17<00:00, 21.81it/s]\n",
      "Testing: 100%|██████████████████████████████████████████████████████████████████████████| 79/79 [00:01<00:00, 44.49it/s]\n"
     ]
    },
    {
     "name": "stdout",
     "output_type": "stream",
     "text": [
      "Epoch 43/50 | Test Acc: 93.56%\n"
     ]
    },
    {
     "name": "stderr",
     "output_type": "stream",
     "text": [
      "Training: 100%|███████████████████████████████████████████████████████████████████████| 391/391 [00:17<00:00, 22.17it/s]\n",
      "Testing: 100%|██████████████████████████████████████████████████████████████████████████| 79/79 [00:10<00:00,  7.82it/s]\n"
     ]
    },
    {
     "name": "stdout",
     "output_type": "stream",
     "text": [
      "Epoch 44/50 | Test Acc: 93.70%\n"
     ]
    },
    {
     "name": "stderr",
     "output_type": "stream",
     "text": [
      "Training: 100%|███████████████████████████████████████████████████████████████████████| 391/391 [00:18<00:00, 21.53it/s]\n",
      "Testing: 100%|██████████████████████████████████████████████████████████████████████████| 79/79 [00:01<00:00, 43.93it/s]\n"
     ]
    },
    {
     "name": "stdout",
     "output_type": "stream",
     "text": [
      "Epoch 45/50 | Test Acc: 93.51%\n"
     ]
    },
    {
     "name": "stderr",
     "output_type": "stream",
     "text": [
      "Training: 100%|███████████████████████████████████████████████████████████████████████| 391/391 [00:17<00:00, 21.74it/s]\n",
      "Testing: 100%|██████████████████████████████████████████████████████████████████████████| 79/79 [00:01<00:00, 43.89it/s]\n"
     ]
    },
    {
     "name": "stdout",
     "output_type": "stream",
     "text": [
      "Epoch 46/50 | Test Acc: 93.59%\n"
     ]
    },
    {
     "name": "stderr",
     "output_type": "stream",
     "text": [
      "Training: 100%|███████████████████████████████████████████████████████████████████████| 391/391 [00:17<00:00, 22.06it/s]\n",
      "Testing: 100%|██████████████████████████████████████████████████████████████████████████| 79/79 [00:06<00:00, 12.19it/s]\n"
     ]
    },
    {
     "name": "stdout",
     "output_type": "stream",
     "text": [
      "Epoch 47/50 | Test Acc: 93.66%\n"
     ]
    },
    {
     "name": "stderr",
     "output_type": "stream",
     "text": [
      "Training: 100%|███████████████████████████████████████████████████████████████████████| 391/391 [00:17<00:00, 22.38it/s]\n",
      "Testing: 100%|██████████████████████████████████████████████████████████████████████████| 79/79 [00:01<00:00, 49.22it/s]\n"
     ]
    },
    {
     "name": "stdout",
     "output_type": "stream",
     "text": [
      "Epoch 48/50 | Test Acc: 93.71%\n"
     ]
    },
    {
     "name": "stderr",
     "output_type": "stream",
     "text": [
      "Training: 100%|███████████████████████████████████████████████████████████████████████| 391/391 [00:17<00:00, 21.94it/s]\n",
      "Testing: 100%|██████████████████████████████████████████████████████████████████████████| 79/79 [00:01<00:00, 40.65it/s]\n"
     ]
    },
    {
     "name": "stdout",
     "output_type": "stream",
     "text": [
      "Epoch 49/50 | Test Acc: 93.73%\n"
     ]
    },
    {
     "name": "stderr",
     "output_type": "stream",
     "text": [
      "Training: 100%|███████████████████████████████████████████████████████████████████████| 391/391 [00:17<00:00, 22.03it/s]\n",
      "Testing: 100%|██████████████████████████████████████████████████████████████████████████| 79/79 [00:11<00:00,  6.99it/s]\n"
     ]
    },
    {
     "name": "stdout",
     "output_type": "stream",
     "text": [
      "Epoch 50/50 | Test Acc: 93.68%\n",
      "\n",
      "Training ResNeXt...\n"
     ]
    },
    {
     "name": "stderr",
     "output_type": "stream",
     "text": [
      "Training: 100%|███████████████████████████████████████████████████████████████████████| 391/391 [01:36<00:00,  4.05it/s]\n",
      "Testing: 100%|██████████████████████████████████████████████████████████████████████████| 79/79 [00:04<00:00, 18.33it/s]\n"
     ]
    },
    {
     "name": "stdout",
     "output_type": "stream",
     "text": [
      "Epoch 1/50 | Test Acc: 36.13%\n"
     ]
    },
    {
     "name": "stderr",
     "output_type": "stream",
     "text": [
      "Training: 100%|███████████████████████████████████████████████████████████████████████| 391/391 [00:15<00:00, 24.81it/s]\n",
      "Testing: 100%|██████████████████████████████████████████████████████████████████████████| 79/79 [00:01<00:00, 40.49it/s]\n"
     ]
    },
    {
     "name": "stdout",
     "output_type": "stream",
     "text": [
      "Epoch 2/50 | Test Acc: 47.95%\n"
     ]
    },
    {
     "name": "stderr",
     "output_type": "stream",
     "text": [
      "Training: 100%|███████████████████████████████████████████████████████████████████████| 391/391 [00:15<00:00, 24.52it/s]\n",
      "Testing: 100%|██████████████████████████████████████████████████████████████████████████| 79/79 [00:01<00:00, 44.81it/s]\n"
     ]
    },
    {
     "name": "stdout",
     "output_type": "stream",
     "text": [
      "Epoch 3/50 | Test Acc: 56.14%\n"
     ]
    },
    {
     "name": "stderr",
     "output_type": "stream",
     "text": [
      "Training: 100%|███████████████████████████████████████████████████████████████████████| 391/391 [00:16<00:00, 23.41it/s]\n",
      "Testing: 100%|██████████████████████████████████████████████████████████████████████████| 79/79 [00:02<00:00, 28.76it/s]\n"
     ]
    },
    {
     "name": "stdout",
     "output_type": "stream",
     "text": [
      "Epoch 4/50 | Test Acc: 65.14%\n"
     ]
    },
    {
     "name": "stderr",
     "output_type": "stream",
     "text": [
      "Training: 100%|███████████████████████████████████████████████████████████████████████| 391/391 [00:16<00:00, 23.45it/s]\n",
      "Testing: 100%|██████████████████████████████████████████████████████████████████████████| 79/79 [00:09<00:00,  8.77it/s]\n"
     ]
    },
    {
     "name": "stdout",
     "output_type": "stream",
     "text": [
      "Epoch 5/50 | Test Acc: 69.69%\n"
     ]
    },
    {
     "name": "stderr",
     "output_type": "stream",
     "text": [
      "Training: 100%|███████████████████████████████████████████████████████████████████████| 391/391 [00:16<00:00, 24.25it/s]\n",
      "Testing: 100%|██████████████████████████████████████████████████████████████████████████| 79/79 [00:01<00:00, 45.26it/s]\n"
     ]
    },
    {
     "name": "stdout",
     "output_type": "stream",
     "text": [
      "Epoch 6/50 | Test Acc: 74.11%\n"
     ]
    },
    {
     "name": "stderr",
     "output_type": "stream",
     "text": [
      "Training: 100%|███████████████████████████████████████████████████████████████████████| 391/391 [00:16<00:00, 24.07it/s]\n",
      "Testing: 100%|██████████████████████████████████████████████████████████████████████████| 79/79 [00:02<00:00, 28.37it/s]\n"
     ]
    },
    {
     "name": "stdout",
     "output_type": "stream",
     "text": [
      "Epoch 7/50 | Test Acc: 74.69%\n"
     ]
    },
    {
     "name": "stderr",
     "output_type": "stream",
     "text": [
      "Training: 100%|███████████████████████████████████████████████████████████████████████| 391/391 [00:15<00:00, 24.53it/s]\n",
      "Testing: 100%|██████████████████████████████████████████████████████████████████████████| 79/79 [00:04<00:00, 16.70it/s]\n"
     ]
    },
    {
     "name": "stdout",
     "output_type": "stream",
     "text": [
      "Epoch 8/50 | Test Acc: 72.44%\n"
     ]
    },
    {
     "name": "stderr",
     "output_type": "stream",
     "text": [
      "Training: 100%|███████████████████████████████████████████████████████████████████████| 391/391 [00:16<00:00, 24.08it/s]\n",
      "Testing: 100%|██████████████████████████████████████████████████████████████████████████| 79/79 [00:01<00:00, 47.30it/s]\n"
     ]
    },
    {
     "name": "stdout",
     "output_type": "stream",
     "text": [
      "Epoch 9/50 | Test Acc: 75.92%\n"
     ]
    },
    {
     "name": "stderr",
     "output_type": "stream",
     "text": [
      "Training: 100%|███████████████████████████████████████████████████████████████████████| 391/391 [00:16<00:00, 23.46it/s]\n",
      "Testing: 100%|██████████████████████████████████████████████████████████████████████████| 79/79 [00:01<00:00, 44.95it/s]\n"
     ]
    },
    {
     "name": "stdout",
     "output_type": "stream",
     "text": [
      "Epoch 10/50 | Test Acc: 73.90%\n"
     ]
    },
    {
     "name": "stderr",
     "output_type": "stream",
     "text": [
      "Training: 100%|███████████████████████████████████████████████████████████████████████| 391/391 [00:19<00:00, 20.55it/s]\n",
      "Testing: 100%|██████████████████████████████████████████████████████████████████████████| 79/79 [00:02<00:00, 39.32it/s]\n"
     ]
    },
    {
     "name": "stdout",
     "output_type": "stream",
     "text": [
      "Epoch 11/50 | Test Acc: 68.91%\n"
     ]
    },
    {
     "name": "stderr",
     "output_type": "stream",
     "text": [
      "Training: 100%|███████████████████████████████████████████████████████████████████████| 391/391 [00:21<00:00, 17.98it/s]\n",
      "Testing: 100%|██████████████████████████████████████████████████████████████████████████| 79/79 [00:01<00:00, 47.24it/s]\n"
     ]
    },
    {
     "name": "stdout",
     "output_type": "stream",
     "text": [
      "Epoch 12/50 | Test Acc: 73.95%\n"
     ]
    },
    {
     "name": "stderr",
     "output_type": "stream",
     "text": [
      "Training: 100%|███████████████████████████████████████████████████████████████████████| 391/391 [00:16<00:00, 24.19it/s]\n",
      "Testing: 100%|██████████████████████████████████████████████████████████████████████████| 79/79 [00:01<00:00, 43.81it/s]\n"
     ]
    },
    {
     "name": "stdout",
     "output_type": "stream",
     "text": [
      "Epoch 13/50 | Test Acc: 76.51%\n"
     ]
    },
    {
     "name": "stderr",
     "output_type": "stream",
     "text": [
      "Training: 100%|███████████████████████████████████████████████████████████████████████| 391/391 [00:16<00:00, 24.19it/s]\n",
      "Testing: 100%|██████████████████████████████████████████████████████████████████████████| 79/79 [00:01<00:00, 43.05it/s]\n"
     ]
    },
    {
     "name": "stdout",
     "output_type": "stream",
     "text": [
      "Epoch 14/50 | Test Acc: 77.70%\n"
     ]
    },
    {
     "name": "stderr",
     "output_type": "stream",
     "text": [
      "Training: 100%|███████████████████████████████████████████████████████████████████████| 391/391 [00:17<00:00, 22.71it/s]\n",
      "Testing: 100%|██████████████████████████████████████████████████████████████████████████| 79/79 [00:09<00:00,  8.31it/s]\n"
     ]
    },
    {
     "name": "stdout",
     "output_type": "stream",
     "text": [
      "Epoch 15/50 | Test Acc: 76.39%\n"
     ]
    },
    {
     "name": "stderr",
     "output_type": "stream",
     "text": [
      "Training: 100%|███████████████████████████████████████████████████████████████████████| 391/391 [00:16<00:00, 23.01it/s]\n",
      "Testing: 100%|██████████████████████████████████████████████████████████████████████████| 79/79 [00:01<00:00, 45.97it/s]\n"
     ]
    },
    {
     "name": "stdout",
     "output_type": "stream",
     "text": [
      "Epoch 16/50 | Test Acc: 76.58%\n"
     ]
    },
    {
     "name": "stderr",
     "output_type": "stream",
     "text": [
      "Training: 100%|███████████████████████████████████████████████████████████████████████| 391/391 [00:16<00:00, 24.07it/s]\n",
      "Testing: 100%|██████████████████████████████████████████████████████████████████████████| 79/79 [00:02<00:00, 29.53it/s]\n"
     ]
    },
    {
     "name": "stdout",
     "output_type": "stream",
     "text": [
      "Epoch 17/50 | Test Acc: 74.23%\n"
     ]
    },
    {
     "name": "stderr",
     "output_type": "stream",
     "text": [
      "Training: 100%|███████████████████████████████████████████████████████████████████████| 391/391 [00:16<00:00, 24.24it/s]\n",
      "Testing: 100%|██████████████████████████████████████████████████████████████████████████| 79/79 [00:04<00:00, 16.09it/s]\n"
     ]
    },
    {
     "name": "stdout",
     "output_type": "stream",
     "text": [
      "Epoch 18/50 | Test Acc: 76.84%\n"
     ]
    },
    {
     "name": "stderr",
     "output_type": "stream",
     "text": [
      "Training: 100%|███████████████████████████████████████████████████████████████████████| 391/391 [00:16<00:00, 24.34it/s]\n",
      "Testing: 100%|██████████████████████████████████████████████████████████████████████████| 79/79 [00:01<00:00, 43.15it/s]\n"
     ]
    },
    {
     "name": "stdout",
     "output_type": "stream",
     "text": [
      "Epoch 19/50 | Test Acc: 79.52%\n"
     ]
    },
    {
     "name": "stderr",
     "output_type": "stream",
     "text": [
      "Training: 100%|███████████████████████████████████████████████████████████████████████| 391/391 [00:16<00:00, 23.61it/s]\n",
      "Testing: 100%|██████████████████████████████████████████████████████████████████████████| 79/79 [00:01<00:00, 42.08it/s]\n"
     ]
    },
    {
     "name": "stdout",
     "output_type": "stream",
     "text": [
      "Epoch 20/50 | Test Acc: 79.70%\n"
     ]
    },
    {
     "name": "stderr",
     "output_type": "stream",
     "text": [
      "Training: 100%|███████████████████████████████████████████████████████████████████████| 391/391 [00:20<00:00, 19.17it/s]\n",
      "Testing: 100%|██████████████████████████████████████████████████████████████████████████| 79/79 [00:07<00:00, 11.24it/s]\n"
     ]
    },
    {
     "name": "stdout",
     "output_type": "stream",
     "text": [
      "Epoch 21/50 | Test Acc: 80.51%\n"
     ]
    },
    {
     "name": "stderr",
     "output_type": "stream",
     "text": [
      "Training: 100%|███████████████████████████████████████████████████████████████████████| 391/391 [00:15<00:00, 24.96it/s]\n",
      "Testing: 100%|██████████████████████████████████████████████████████████████████████████| 79/79 [00:01<00:00, 44.43it/s]\n"
     ]
    },
    {
     "name": "stdout",
     "output_type": "stream",
     "text": [
      "Epoch 22/50 | Test Acc: 80.52%\n"
     ]
    },
    {
     "name": "stderr",
     "output_type": "stream",
     "text": [
      "Training: 100%|███████████████████████████████████████████████████████████████████████| 391/391 [00:16<00:00, 24.10it/s]\n",
      "Testing: 100%|██████████████████████████████████████████████████████████████████████████| 79/79 [00:05<00:00, 15.42it/s]\n"
     ]
    },
    {
     "name": "stdout",
     "output_type": "stream",
     "text": [
      "Epoch 23/50 | Test Acc: 69.62%\n"
     ]
    },
    {
     "name": "stderr",
     "output_type": "stream",
     "text": [
      "Training: 100%|███████████████████████████████████████████████████████████████████████| 391/391 [00:16<00:00, 23.43it/s]\n",
      "Testing: 100%|██████████████████████████████████████████████████████████████████████████| 79/79 [00:07<00:00, 10.25it/s]\n"
     ]
    },
    {
     "name": "stdout",
     "output_type": "stream",
     "text": [
      "Epoch 24/50 | Test Acc: 79.03%\n"
     ]
    },
    {
     "name": "stderr",
     "output_type": "stream",
     "text": [
      "Training: 100%|███████████████████████████████████████████████████████████████████████| 391/391 [00:16<00:00, 23.32it/s]\n",
      "Testing: 100%|██████████████████████████████████████████████████████████████████████████| 79/79 [00:01<00:00, 42.32it/s]\n"
     ]
    },
    {
     "name": "stdout",
     "output_type": "stream",
     "text": [
      "Epoch 25/50 | Test Acc: 81.35%\n"
     ]
    },
    {
     "name": "stderr",
     "output_type": "stream",
     "text": [
      "Training: 100%|███████████████████████████████████████████████████████████████████████| 391/391 [00:16<00:00, 24.28it/s]\n",
      "Testing: 100%|██████████████████████████████████████████████████████████████████████████| 79/79 [00:03<00:00, 24.47it/s]\n"
     ]
    },
    {
     "name": "stdout",
     "output_type": "stream",
     "text": [
      "Epoch 26/50 | Test Acc: 77.74%\n"
     ]
    },
    {
     "name": "stderr",
     "output_type": "stream",
     "text": [
      "Training: 100%|███████████████████████████████████████████████████████████████████████| 391/391 [00:16<00:00, 24.31it/s]\n",
      "Testing: 100%|██████████████████████████████████████████████████████████████████████████| 79/79 [00:09<00:00,  8.69it/s]\n"
     ]
    },
    {
     "name": "stdout",
     "output_type": "stream",
     "text": [
      "Epoch 27/50 | Test Acc: 81.63%\n"
     ]
    },
    {
     "name": "stderr",
     "output_type": "stream",
     "text": [
      "Training: 100%|███████████████████████████████████████████████████████████████████████| 391/391 [00:15<00:00, 24.76it/s]\n",
      "Testing: 100%|██████████████████████████████████████████████████████████████████████████| 79/79 [00:01<00:00, 47.74it/s]\n"
     ]
    },
    {
     "name": "stdout",
     "output_type": "stream",
     "text": [
      "Epoch 28/50 | Test Acc: 81.87%\n"
     ]
    },
    {
     "name": "stderr",
     "output_type": "stream",
     "text": [
      "Training: 100%|███████████████████████████████████████████████████████████████████████| 391/391 [00:16<00:00, 23.71it/s]\n",
      "Testing: 100%|██████████████████████████████████████████████████████████████████████████| 79/79 [00:03<00:00, 23.44it/s]\n"
     ]
    },
    {
     "name": "stdout",
     "output_type": "stream",
     "text": [
      "Epoch 29/50 | Test Acc: 78.90%\n"
     ]
    },
    {
     "name": "stderr",
     "output_type": "stream",
     "text": [
      "Training: 100%|███████████████████████████████████████████████████████████████████████| 391/391 [00:16<00:00, 24.39it/s]\n",
      "Testing: 100%|██████████████████████████████████████████████████████████████████████████| 79/79 [00:02<00:00, 29.15it/s]\n"
     ]
    },
    {
     "name": "stdout",
     "output_type": "stream",
     "text": [
      "Epoch 30/50 | Test Acc: 82.12%\n"
     ]
    },
    {
     "name": "stderr",
     "output_type": "stream",
     "text": [
      "Training: 100%|███████████████████████████████████████████████████████████████████████| 391/391 [00:20<00:00, 18.64it/s]\n",
      "Testing: 100%|██████████████████████████████████████████████████████████████████████████| 79/79 [00:01<00:00, 42.01it/s]\n"
     ]
    },
    {
     "name": "stdout",
     "output_type": "stream",
     "text": [
      "Epoch 31/50 | Test Acc: 90.29%\n"
     ]
    },
    {
     "name": "stderr",
     "output_type": "stream",
     "text": [
      "Training: 100%|███████████████████████████████████████████████████████████████████████| 391/391 [00:16<00:00, 23.79it/s]\n",
      "Testing: 100%|██████████████████████████████████████████████████████████████████████████| 79/79 [00:04<00:00, 17.61it/s]\n"
     ]
    },
    {
     "name": "stdout",
     "output_type": "stream",
     "text": [
      "Epoch 32/50 | Test Acc: 90.96%\n"
     ]
    },
    {
     "name": "stderr",
     "output_type": "stream",
     "text": [
      "Training: 100%|███████████████████████████████████████████████████████████████████████| 391/391 [00:16<00:00, 23.62it/s]\n",
      "Testing: 100%|██████████████████████████████████████████████████████████████████████████| 79/79 [00:07<00:00,  9.96it/s]\n"
     ]
    },
    {
     "name": "stdout",
     "output_type": "stream",
     "text": [
      "Epoch 33/50 | Test Acc: 91.22%\n"
     ]
    },
    {
     "name": "stderr",
     "output_type": "stream",
     "text": [
      "Training: 100%|███████████████████████████████████████████████████████████████████████| 391/391 [00:15<00:00, 25.05it/s]\n",
      "Testing: 100%|██████████████████████████████████████████████████████████████████████████| 79/79 [00:01<00:00, 44.24it/s]\n"
     ]
    },
    {
     "name": "stdout",
     "output_type": "stream",
     "text": [
      "Epoch 34/50 | Test Acc: 91.21%\n"
     ]
    },
    {
     "name": "stderr",
     "output_type": "stream",
     "text": [
      "Training: 100%|███████████████████████████████████████████████████████████████████████| 391/391 [00:16<00:00, 23.92it/s]\n",
      "Testing: 100%|██████████████████████████████████████████████████████████████████████████| 79/79 [00:05<00:00, 15.28it/s]\n"
     ]
    },
    {
     "name": "stdout",
     "output_type": "stream",
     "text": [
      "Epoch 35/50 | Test Acc: 91.23%\n"
     ]
    },
    {
     "name": "stderr",
     "output_type": "stream",
     "text": [
      "Training: 100%|███████████████████████████████████████████████████████████████████████| 391/391 [00:16<00:00, 24.13it/s]\n",
      "Testing: 100%|██████████████████████████████████████████████████████████████████████████| 79/79 [00:09<00:00,  8.46it/s]\n"
     ]
    },
    {
     "name": "stdout",
     "output_type": "stream",
     "text": [
      "Epoch 36/50 | Test Acc: 91.27%\n"
     ]
    },
    {
     "name": "stderr",
     "output_type": "stream",
     "text": [
      "Training: 100%|███████████████████████████████████████████████████████████████████████| 391/391 [00:17<00:00, 22.46it/s]\n",
      "Testing: 100%|██████████████████████████████████████████████████████████████████████████| 79/79 [00:01<00:00, 49.24it/s]\n"
     ]
    },
    {
     "name": "stdout",
     "output_type": "stream",
     "text": [
      "Epoch 37/50 | Test Acc: 91.34%\n"
     ]
    },
    {
     "name": "stderr",
     "output_type": "stream",
     "text": [
      "Training: 100%|███████████████████████████████████████████████████████████████████████| 391/391 [00:16<00:00, 24.28it/s]\n",
      "Testing: 100%|██████████████████████████████████████████████████████████████████████████| 79/79 [00:03<00:00, 26.07it/s]\n"
     ]
    },
    {
     "name": "stdout",
     "output_type": "stream",
     "text": [
      "Epoch 38/50 | Test Acc: 91.87%\n"
     ]
    },
    {
     "name": "stderr",
     "output_type": "stream",
     "text": [
      "Training: 100%|███████████████████████████████████████████████████████████████████████| 391/391 [00:16<00:00, 24.11it/s]\n",
      "Testing: 100%|██████████████████████████████████████████████████████████████████████████| 79/79 [00:07<00:00, 10.70it/s]\n"
     ]
    },
    {
     "name": "stdout",
     "output_type": "stream",
     "text": [
      "Epoch 39/50 | Test Acc: 91.36%\n"
     ]
    },
    {
     "name": "stderr",
     "output_type": "stream",
     "text": [
      "Training: 100%|███████████████████████████████████████████████████████████████████████| 391/391 [00:16<00:00, 24.24it/s]\n",
      "Testing: 100%|██████████████████████████████████████████████████████████████████████████| 79/79 [00:01<00:00, 45.93it/s]\n"
     ]
    },
    {
     "name": "stdout",
     "output_type": "stream",
     "text": [
      "Epoch 40/50 | Test Acc: 91.92%\n"
     ]
    },
    {
     "name": "stderr",
     "output_type": "stream",
     "text": [
      "Training: 100%|███████████████████████████████████████████████████████████████████████| 391/391 [00:15<00:00, 24.50it/s]\n",
      "Testing: 100%|██████████████████████████████████████████████████████████████████████████| 79/79 [00:04<00:00, 16.89it/s]\n"
     ]
    },
    {
     "name": "stdout",
     "output_type": "stream",
     "text": [
      "Epoch 41/50 | Test Acc: 92.55%\n"
     ]
    },
    {
     "name": "stderr",
     "output_type": "stream",
     "text": [
      "Training: 100%|███████████████████████████████████████████████████████████████████████| 391/391 [00:16<00:00, 24.43it/s]\n",
      "Testing: 100%|██████████████████████████████████████████████████████████████████████████| 79/79 [00:01<00:00, 43.32it/s]\n"
     ]
    },
    {
     "name": "stdout",
     "output_type": "stream",
     "text": [
      "Epoch 42/50 | Test Acc: 92.45%\n"
     ]
    },
    {
     "name": "stderr",
     "output_type": "stream",
     "text": [
      "Training: 100%|███████████████████████████████████████████████████████████████████████| 391/391 [00:24<00:00, 16.28it/s]\n",
      "Testing: 100%|██████████████████████████████████████████████████████████████████████████| 79/79 [00:01<00:00, 42.64it/s]\n"
     ]
    },
    {
     "name": "stdout",
     "output_type": "stream",
     "text": [
      "Epoch 43/50 | Test Acc: 92.64%\n"
     ]
    },
    {
     "name": "stderr",
     "output_type": "stream",
     "text": [
      "Training: 100%|███████████████████████████████████████████████████████████████████████| 391/391 [00:16<00:00, 24.08it/s]\n",
      "Testing: 100%|██████████████████████████████████████████████████████████████████████████| 79/79 [00:02<00:00, 27.16it/s]\n"
     ]
    },
    {
     "name": "stdout",
     "output_type": "stream",
     "text": [
      "Epoch 44/50 | Test Acc: 92.60%\n"
     ]
    },
    {
     "name": "stderr",
     "output_type": "stream",
     "text": [
      "Training: 100%|███████████████████████████████████████████████████████████████████████| 391/391 [00:15<00:00, 24.48it/s]\n",
      "Testing: 100%|██████████████████████████████████████████████████████████████████████████| 79/79 [00:04<00:00, 17.82it/s]\n"
     ]
    },
    {
     "name": "stdout",
     "output_type": "stream",
     "text": [
      "Epoch 45/50 | Test Acc: 92.62%\n"
     ]
    },
    {
     "name": "stderr",
     "output_type": "stream",
     "text": [
      "Training: 100%|███████████████████████████████████████████████████████████████████████| 391/391 [00:15<00:00, 24.71it/s]\n",
      "Testing: 100%|██████████████████████████████████████████████████████████████████████████| 79/79 [00:04<00:00, 15.80it/s]\n"
     ]
    },
    {
     "name": "stdout",
     "output_type": "stream",
     "text": [
      "Epoch 46/50 | Test Acc: 92.57%\n"
     ]
    },
    {
     "name": "stderr",
     "output_type": "stream",
     "text": [
      "Training: 100%|███████████████████████████████████████████████████████████████████████| 391/391 [00:15<00:00, 24.74it/s]\n",
      "Testing: 100%|██████████████████████████████████████████████████████████████████████████| 79/79 [00:01<00:00, 48.42it/s]\n"
     ]
    },
    {
     "name": "stdout",
     "output_type": "stream",
     "text": [
      "Epoch 47/50 | Test Acc: 92.76%\n"
     ]
    },
    {
     "name": "stderr",
     "output_type": "stream",
     "text": [
      "Training: 100%|███████████████████████████████████████████████████████████████████████| 391/391 [00:16<00:00, 23.23it/s]\n",
      "Testing: 100%|██████████████████████████████████████████████████████████████████████████| 79/79 [00:04<00:00, 16.71it/s]\n"
     ]
    },
    {
     "name": "stdout",
     "output_type": "stream",
     "text": [
      "Epoch 48/50 | Test Acc: 92.63%\n"
     ]
    },
    {
     "name": "stderr",
     "output_type": "stream",
     "text": [
      "Training: 100%|███████████████████████████████████████████████████████████████████████| 391/391 [00:15<00:00, 24.61it/s]\n",
      "Testing: 100%|██████████████████████████████████████████████████████████████████████████| 79/79 [00:01<00:00, 47.11it/s]\n"
     ]
    },
    {
     "name": "stdout",
     "output_type": "stream",
     "text": [
      "Epoch 49/50 | Test Acc: 92.74%\n"
     ]
    },
    {
     "name": "stderr",
     "output_type": "stream",
     "text": [
      "Training: 100%|███████████████████████████████████████████████████████████████████████| 391/391 [00:17<00:00, 22.68it/s]\n",
      "Testing: 100%|██████████████████████████████████████████████████████████████████████████| 79/79 [00:01<00:00, 42.32it/s]\n"
     ]
    },
    {
     "name": "stdout",
     "output_type": "stream",
     "text": [
      "Epoch 50/50 | Test Acc: 92.52%\n",
      "\n",
      "Training SE-ResNet...\n"
     ]
    },
    {
     "name": "stderr",
     "output_type": "stream",
     "text": [
      "Training: 100%|███████████████████████████████████████████████████████████████████████| 391/391 [01:41<00:00,  3.86it/s]\n",
      "Testing: 100%|██████████████████████████████████████████████████████████████████████████| 79/79 [00:06<00:00, 12.04it/s]\n"
     ]
    },
    {
     "name": "stdout",
     "output_type": "stream",
     "text": [
      "Epoch 1/50 | Test Acc: 46.64%\n"
     ]
    },
    {
     "name": "stderr",
     "output_type": "stream",
     "text": [
      "Training: 100%|███████████████████████████████████████████████████████████████████████| 391/391 [00:18<00:00, 20.66it/s]\n",
      "Testing: 100%|██████████████████████████████████████████████████████████████████████████| 79/79 [00:01<00:00, 43.26it/s]\n"
     ]
    },
    {
     "name": "stdout",
     "output_type": "stream",
     "text": [
      "Epoch 2/50 | Test Acc: 63.18%\n"
     ]
    },
    {
     "name": "stderr",
     "output_type": "stream",
     "text": [
      "Training: 100%|███████████████████████████████████████████████████████████████████████| 391/391 [00:19<00:00, 20.07it/s]\n",
      "Testing: 100%|██████████████████████████████████████████████████████████████████████████| 79/79 [00:01<00:00, 40.78it/s]\n"
     ]
    },
    {
     "name": "stdout",
     "output_type": "stream",
     "text": [
      "Epoch 3/50 | Test Acc: 63.49%\n"
     ]
    },
    {
     "name": "stderr",
     "output_type": "stream",
     "text": [
      "Training: 100%|███████████████████████████████████████████████████████████████████████| 391/391 [00:18<00:00, 20.67it/s]\n",
      "Testing: 100%|██████████████████████████████████████████████████████████████████████████| 79/79 [00:05<00:00, 15.38it/s]\n"
     ]
    },
    {
     "name": "stdout",
     "output_type": "stream",
     "text": [
      "Epoch 4/50 | Test Acc: 74.54%\n"
     ]
    },
    {
     "name": "stderr",
     "output_type": "stream",
     "text": [
      "Training: 100%|███████████████████████████████████████████████████████████████████████| 391/391 [00:18<00:00, 20.82it/s]\n",
      "Testing: 100%|██████████████████████████████████████████████████████████████████████████| 79/79 [00:01<00:00, 41.98it/s]\n"
     ]
    },
    {
     "name": "stdout",
     "output_type": "stream",
     "text": [
      "Epoch 5/50 | Test Acc: 65.24%\n"
     ]
    },
    {
     "name": "stderr",
     "output_type": "stream",
     "text": [
      "Training: 100%|███████████████████████████████████████████████████████████████████████| 391/391 [00:19<00:00, 20.16it/s]\n",
      "Testing: 100%|██████████████████████████████████████████████████████████████████████████| 79/79 [00:01<00:00, 48.34it/s]\n"
     ]
    },
    {
     "name": "stdout",
     "output_type": "stream",
     "text": [
      "Epoch 6/50 | Test Acc: 78.78%\n"
     ]
    },
    {
     "name": "stderr",
     "output_type": "stream",
     "text": [
      "Training: 100%|███████████████████████████████████████████████████████████████████████| 391/391 [00:19<00:00, 20.28it/s]\n",
      "Testing: 100%|██████████████████████████████████████████████████████████████████████████| 79/79 [00:09<00:00,  8.43it/s]\n"
     ]
    },
    {
     "name": "stdout",
     "output_type": "stream",
     "text": [
      "Epoch 7/50 | Test Acc: 78.27%\n"
     ]
    },
    {
     "name": "stderr",
     "output_type": "stream",
     "text": [
      "Training: 100%|███████████████████████████████████████████████████████████████████████| 391/391 [00:18<00:00, 20.79it/s]\n",
      "Testing: 100%|██████████████████████████████████████████████████████████████████████████| 79/79 [00:01<00:00, 39.85it/s]\n"
     ]
    },
    {
     "name": "stdout",
     "output_type": "stream",
     "text": [
      "Epoch 8/50 | Test Acc: 80.32%\n"
     ]
    },
    {
     "name": "stderr",
     "output_type": "stream",
     "text": [
      "Training: 100%|███████████████████████████████████████████████████████████████████████| 391/391 [00:19<00:00, 20.06it/s]\n",
      "Testing: 100%|██████████████████████████████████████████████████████████████████████████| 79/79 [00:01<00:00, 46.46it/s]\n"
     ]
    },
    {
     "name": "stdout",
     "output_type": "stream",
     "text": [
      "Epoch 9/50 | Test Acc: 68.79%\n"
     ]
    },
    {
     "name": "stderr",
     "output_type": "stream",
     "text": [
      "Training: 100%|███████████████████████████████████████████████████████████████████████| 391/391 [00:20<00:00, 19.32it/s]\n",
      "Testing: 100%|██████████████████████████████████████████████████████████████████████████| 79/79 [00:12<00:00,  6.47it/s]\n"
     ]
    },
    {
     "name": "stdout",
     "output_type": "stream",
     "text": [
      "Epoch 10/50 | Test Acc: 81.52%\n"
     ]
    },
    {
     "name": "stderr",
     "output_type": "stream",
     "text": [
      "Training: 100%|███████████████████████████████████████████████████████████████████████| 391/391 [00:19<00:00, 20.05it/s]\n",
      "Testing: 100%|██████████████████████████████████████████████████████████████████████████| 79/79 [00:01<00:00, 45.97it/s]\n"
     ]
    },
    {
     "name": "stdout",
     "output_type": "stream",
     "text": [
      "Epoch 11/50 | Test Acc: 79.06%\n"
     ]
    },
    {
     "name": "stderr",
     "output_type": "stream",
     "text": [
      "Training: 100%|███████████████████████████████████████████████████████████████████████| 391/391 [00:19<00:00, 19.64it/s]\n",
      "Testing: 100%|██████████████████████████████████████████████████████████████████████████| 79/79 [00:02<00:00, 38.99it/s]\n"
     ]
    },
    {
     "name": "stdout",
     "output_type": "stream",
     "text": [
      "Epoch 12/50 | Test Acc: 75.50%\n"
     ]
    },
    {
     "name": "stderr",
     "output_type": "stream",
     "text": [
      "Training: 100%|███████████████████████████████████████████████████████████████████████| 391/391 [00:20<00:00, 18.67it/s]\n",
      "Testing: 100%|██████████████████████████████████████████████████████████████████████████| 79/79 [00:07<00:00, 10.11it/s]\n"
     ]
    },
    {
     "name": "stdout",
     "output_type": "stream",
     "text": [
      "Epoch 13/50 | Test Acc: 81.16%\n"
     ]
    },
    {
     "name": "stderr",
     "output_type": "stream",
     "text": [
      "Training: 100%|███████████████████████████████████████████████████████████████████████| 391/391 [00:19<00:00, 19.75it/s]\n",
      "Testing: 100%|██████████████████████████████████████████████████████████████████████████| 79/79 [00:01<00:00, 42.19it/s]\n"
     ]
    },
    {
     "name": "stdout",
     "output_type": "stream",
     "text": [
      "Epoch 14/50 | Test Acc: 82.98%\n"
     ]
    },
    {
     "name": "stderr",
     "output_type": "stream",
     "text": [
      "Training: 100%|███████████████████████████████████████████████████████████████████████| 391/391 [00:20<00:00, 19.19it/s]\n",
      "Testing: 100%|██████████████████████████████████████████████████████████████████████████| 79/79 [00:01<00:00, 46.03it/s]\n"
     ]
    },
    {
     "name": "stdout",
     "output_type": "stream",
     "text": [
      "Epoch 15/50 | Test Acc: 83.13%\n"
     ]
    },
    {
     "name": "stderr",
     "output_type": "stream",
     "text": [
      "Training: 100%|███████████████████████████████████████████████████████████████████████| 391/391 [00:19<00:00, 19.56it/s]\n",
      "Testing: 100%|██████████████████████████████████████████████████████████████████████████| 79/79 [00:06<00:00, 11.32it/s]\n"
     ]
    },
    {
     "name": "stdout",
     "output_type": "stream",
     "text": [
      "Epoch 16/50 | Test Acc: 82.14%\n"
     ]
    },
    {
     "name": "stderr",
     "output_type": "stream",
     "text": [
      "Training: 100%|███████████████████████████████████████████████████████████████████████| 391/391 [00:19<00:00, 20.39it/s]\n",
      "Testing: 100%|██████████████████████████████████████████████████████████████████████████| 79/79 [00:01<00:00, 42.17it/s]\n"
     ]
    },
    {
     "name": "stdout",
     "output_type": "stream",
     "text": [
      "Epoch 17/50 | Test Acc: 79.48%\n"
     ]
    },
    {
     "name": "stderr",
     "output_type": "stream",
     "text": [
      "Training: 100%|███████████████████████████████████████████████████████████████████████| 391/391 [00:20<00:00, 19.01it/s]\n",
      "Testing: 100%|██████████████████████████████████████████████████████████████████████████| 79/79 [00:01<00:00, 41.47it/s]\n"
     ]
    },
    {
     "name": "stdout",
     "output_type": "stream",
     "text": [
      "Epoch 18/50 | Test Acc: 77.66%\n"
     ]
    },
    {
     "name": "stderr",
     "output_type": "stream",
     "text": [
      "Training: 100%|███████████████████████████████████████████████████████████████████████| 391/391 [00:19<00:00, 20.26it/s]\n",
      "Testing: 100%|██████████████████████████████████████████████████████████████████████████| 79/79 [00:09<00:00,  8.14it/s]\n"
     ]
    },
    {
     "name": "stdout",
     "output_type": "stream",
     "text": [
      "Epoch 19/50 | Test Acc: 78.55%\n"
     ]
    },
    {
     "name": "stderr",
     "output_type": "stream",
     "text": [
      "Training: 100%|███████████████████████████████████████████████████████████████████████| 391/391 [00:19<00:00, 19.98it/s]\n",
      "Testing: 100%|██████████████████████████████████████████████████████████████████████████| 79/79 [00:01<00:00, 44.25it/s]\n"
     ]
    },
    {
     "name": "stdout",
     "output_type": "stream",
     "text": [
      "Epoch 20/50 | Test Acc: 79.32%\n"
     ]
    },
    {
     "name": "stderr",
     "output_type": "stream",
     "text": [
      "Training: 100%|███████████████████████████████████████████████████████████████████████| 391/391 [00:19<00:00, 20.32it/s]\n",
      "Testing: 100%|██████████████████████████████████████████████████████████████████████████| 79/79 [00:01<00:00, 40.76it/s]\n"
     ]
    },
    {
     "name": "stdout",
     "output_type": "stream",
     "text": [
      "Epoch 21/50 | Test Acc: 84.10%\n"
     ]
    },
    {
     "name": "stderr",
     "output_type": "stream",
     "text": [
      "Training: 100%|███████████████████████████████████████████████████████████████████████| 391/391 [00:19<00:00, 19.99it/s]\n",
      "Testing: 100%|██████████████████████████████████████████████████████████████████████████| 79/79 [00:17<00:00,  4.48it/s]\n"
     ]
    },
    {
     "name": "stdout",
     "output_type": "stream",
     "text": [
      "Epoch 22/50 | Test Acc: 83.13%\n"
     ]
    },
    {
     "name": "stderr",
     "output_type": "stream",
     "text": [
      "Training: 100%|███████████████████████████████████████████████████████████████████████| 391/391 [00:19<00:00, 20.07it/s]\n",
      "Testing: 100%|██████████████████████████████████████████████████████████████████████████| 79/79 [00:02<00:00, 39.37it/s]\n"
     ]
    },
    {
     "name": "stdout",
     "output_type": "stream",
     "text": [
      "Epoch 23/50 | Test Acc: 84.07%\n"
     ]
    },
    {
     "name": "stderr",
     "output_type": "stream",
     "text": [
      "Training: 100%|███████████████████████████████████████████████████████████████████████| 391/391 [00:20<00:00, 19.14it/s]\n",
      "Testing: 100%|██████████████████████████████████████████████████████████████████████████| 79/79 [00:01<00:00, 39.76it/s]\n"
     ]
    },
    {
     "name": "stdout",
     "output_type": "stream",
     "text": [
      "Epoch 24/50 | Test Acc: 83.79%\n"
     ]
    },
    {
     "name": "stderr",
     "output_type": "stream",
     "text": [
      "Training: 100%|███████████████████████████████████████████████████████████████████████| 391/391 [00:19<00:00, 20.41it/s]\n",
      "Testing: 100%|██████████████████████████████████████████████████████████████████████████| 79/79 [00:08<00:00,  9.36it/s]\n"
     ]
    },
    {
     "name": "stdout",
     "output_type": "stream",
     "text": [
      "Epoch 25/50 | Test Acc: 82.85%\n"
     ]
    },
    {
     "name": "stderr",
     "output_type": "stream",
     "text": [
      "Training: 100%|███████████████████████████████████████████████████████████████████████| 391/391 [00:19<00:00, 20.14it/s]\n",
      "Testing: 100%|██████████████████████████████████████████████████████████████████████████| 79/79 [00:01<00:00, 41.06it/s]\n"
     ]
    },
    {
     "name": "stdout",
     "output_type": "stream",
     "text": [
      "Epoch 26/50 | Test Acc: 78.03%\n"
     ]
    },
    {
     "name": "stderr",
     "output_type": "stream",
     "text": [
      "Training: 100%|███████████████████████████████████████████████████████████████████████| 391/391 [00:19<00:00, 19.66it/s]\n",
      "Testing: 100%|██████████████████████████████████████████████████████████████████████████| 79/79 [00:01<00:00, 41.76it/s]\n"
     ]
    },
    {
     "name": "stdout",
     "output_type": "stream",
     "text": [
      "Epoch 27/50 | Test Acc: 78.83%\n"
     ]
    },
    {
     "name": "stderr",
     "output_type": "stream",
     "text": [
      "Training: 100%|███████████████████████████████████████████████████████████████████████| 391/391 [00:20<00:00, 19.47it/s]\n",
      "Testing: 100%|██████████████████████████████████████████████████████████████████████████| 79/79 [00:10<00:00,  7.83it/s]\n"
     ]
    },
    {
     "name": "stdout",
     "output_type": "stream",
     "text": [
      "Epoch 28/50 | Test Acc: 82.29%\n"
     ]
    },
    {
     "name": "stderr",
     "output_type": "stream",
     "text": [
      "Training: 100%|███████████████████████████████████████████████████████████████████████| 391/391 [00:19<00:00, 20.33it/s]\n",
      "Testing: 100%|██████████████████████████████████████████████████████████████████████████| 79/79 [00:01<00:00, 44.99it/s]\n"
     ]
    },
    {
     "name": "stdout",
     "output_type": "stream",
     "text": [
      "Epoch 29/50 | Test Acc: 84.51%\n"
     ]
    },
    {
     "name": "stderr",
     "output_type": "stream",
     "text": [
      "Training: 100%|███████████████████████████████████████████████████████████████████████| 391/391 [00:19<00:00, 19.84it/s]\n",
      "Testing: 100%|██████████████████████████████████████████████████████████████████████████| 79/79 [00:01<00:00, 44.06it/s]\n"
     ]
    },
    {
     "name": "stdout",
     "output_type": "stream",
     "text": [
      "Epoch 30/50 | Test Acc: 79.01%\n"
     ]
    },
    {
     "name": "stderr",
     "output_type": "stream",
     "text": [
      "Training: 100%|███████████████████████████████████████████████████████████████████████| 391/391 [00:19<00:00, 19.92it/s]\n",
      "Testing: 100%|██████████████████████████████████████████████████████████████████████████| 79/79 [00:12<00:00,  6.55it/s]\n"
     ]
    },
    {
     "name": "stdout",
     "output_type": "stream",
     "text": [
      "Epoch 31/50 | Test Acc: 92.39%\n"
     ]
    },
    {
     "name": "stderr",
     "output_type": "stream",
     "text": [
      "Training: 100%|███████████████████████████████████████████████████████████████████████| 391/391 [00:18<00:00, 21.05it/s]\n",
      "Testing: 100%|██████████████████████████████████████████████████████████████████████████| 79/79 [00:01<00:00, 44.06it/s]\n"
     ]
    },
    {
     "name": "stdout",
     "output_type": "stream",
     "text": [
      "Epoch 32/50 | Test Acc: 92.86%\n"
     ]
    },
    {
     "name": "stderr",
     "output_type": "stream",
     "text": [
      "Training: 100%|███████████████████████████████████████████████████████████████████████| 391/391 [00:18<00:00, 20.60it/s]\n",
      "Testing: 100%|██████████████████████████████████████████████████████████████████████████| 79/79 [00:01<00:00, 40.07it/s]\n"
     ]
    },
    {
     "name": "stdout",
     "output_type": "stream",
     "text": [
      "Epoch 33/50 | Test Acc: 92.76%\n"
     ]
    },
    {
     "name": "stderr",
     "output_type": "stream",
     "text": [
      "Training: 100%|███████████████████████████████████████████████████████████████████████| 391/391 [00:19<00:00, 20.11it/s]\n",
      "Testing: 100%|██████████████████████████████████████████████████████████████████████████| 79/79 [00:08<00:00,  9.33it/s]\n"
     ]
    },
    {
     "name": "stdout",
     "output_type": "stream",
     "text": [
      "Epoch 34/50 | Test Acc: 93.17%\n"
     ]
    },
    {
     "name": "stderr",
     "output_type": "stream",
     "text": [
      "Training: 100%|███████████████████████████████████████████████████████████████████████| 391/391 [00:19<00:00, 20.16it/s]\n",
      "Testing: 100%|██████████████████████████████████████████████████████████████████████████| 79/79 [00:01<00:00, 45.18it/s]\n"
     ]
    },
    {
     "name": "stdout",
     "output_type": "stream",
     "text": [
      "Epoch 35/50 | Test Acc: 93.34%\n"
     ]
    },
    {
     "name": "stderr",
     "output_type": "stream",
     "text": [
      "Training: 100%|███████████████████████████████████████████████████████████████████████| 391/391 [00:19<00:00, 20.03it/s]\n",
      "Testing: 100%|██████████████████████████████████████████████████████████████████████████| 79/79 [00:01<00:00, 41.28it/s]\n"
     ]
    },
    {
     "name": "stdout",
     "output_type": "stream",
     "text": [
      "Epoch 36/50 | Test Acc: 93.40%\n"
     ]
    },
    {
     "name": "stderr",
     "output_type": "stream",
     "text": [
      "Training: 100%|███████████████████████████████████████████████████████████████████████| 391/391 [00:19<00:00, 19.83it/s]\n",
      "Testing: 100%|██████████████████████████████████████████████████████████████████████████| 79/79 [00:04<00:00, 15.86it/s]\n"
     ]
    },
    {
     "name": "stdout",
     "output_type": "stream",
     "text": [
      "Epoch 37/50 | Test Acc: 93.41%\n"
     ]
    },
    {
     "name": "stderr",
     "output_type": "stream",
     "text": [
      "Training: 100%|███████████████████████████████████████████████████████████████████████| 391/391 [00:18<00:00, 20.81it/s]\n",
      "Testing: 100%|██████████████████████████████████████████████████████████████████████████| 79/79 [00:01<00:00, 45.11it/s]\n"
     ]
    },
    {
     "name": "stdout",
     "output_type": "stream",
     "text": [
      "Epoch 38/50 | Test Acc: 93.11%\n"
     ]
    },
    {
     "name": "stderr",
     "output_type": "stream",
     "text": [
      "Training: 100%|███████████████████████████████████████████████████████████████████████| 391/391 [00:19<00:00, 20.27it/s]\n",
      "Testing: 100%|██████████████████████████████████████████████████████████████████████████| 79/79 [00:01<00:00, 42.39it/s]\n"
     ]
    },
    {
     "name": "stdout",
     "output_type": "stream",
     "text": [
      "Epoch 39/50 | Test Acc: 93.35%\n"
     ]
    },
    {
     "name": "stderr",
     "output_type": "stream",
     "text": [
      "Training: 100%|███████████████████████████████████████████████████████████████████████| 391/391 [00:19<00:00, 20.21it/s]\n",
      "Testing: 100%|██████████████████████████████████████████████████████████████████████████| 79/79 [00:12<00:00,  6.43it/s]\n"
     ]
    },
    {
     "name": "stdout",
     "output_type": "stream",
     "text": [
      "Epoch 40/50 | Test Acc: 93.39%\n"
     ]
    },
    {
     "name": "stderr",
     "output_type": "stream",
     "text": [
      "Training: 100%|███████████████████████████████████████████████████████████████████████| 391/391 [00:21<00:00, 18.58it/s]\n",
      "Testing: 100%|██████████████████████████████████████████████████████████████████████████| 79/79 [00:01<00:00, 42.47it/s]\n"
     ]
    },
    {
     "name": "stdout",
     "output_type": "stream",
     "text": [
      "Epoch 41/50 | Test Acc: 93.93%\n"
     ]
    },
    {
     "name": "stderr",
     "output_type": "stream",
     "text": [
      "Training: 100%|███████████████████████████████████████████████████████████████████████| 391/391 [00:19<00:00, 20.50it/s]\n",
      "Testing: 100%|██████████████████████████████████████████████████████████████████████████| 79/79 [00:02<00:00, 33.92it/s]\n"
     ]
    },
    {
     "name": "stdout",
     "output_type": "stream",
     "text": [
      "Epoch 42/50 | Test Acc: 94.08%\n"
     ]
    },
    {
     "name": "stderr",
     "output_type": "stream",
     "text": [
      "Training: 100%|███████████████████████████████████████████████████████████████████████| 391/391 [00:19<00:00, 20.19it/s]\n",
      "Testing: 100%|██████████████████████████████████████████████████████████████████████████| 79/79 [00:12<00:00,  6.50it/s]\n"
     ]
    },
    {
     "name": "stdout",
     "output_type": "stream",
     "text": [
      "Epoch 43/50 | Test Acc: 94.10%\n"
     ]
    },
    {
     "name": "stderr",
     "output_type": "stream",
     "text": [
      "Training: 100%|███████████████████████████████████████████████████████████████████████| 391/391 [00:19<00:00, 20.24it/s]\n",
      "Testing: 100%|██████████████████████████████████████████████████████████████████████████| 79/79 [00:01<00:00, 40.70it/s]\n"
     ]
    },
    {
     "name": "stdout",
     "output_type": "stream",
     "text": [
      "Epoch 44/50 | Test Acc: 93.99%\n"
     ]
    },
    {
     "name": "stderr",
     "output_type": "stream",
     "text": [
      "Training: 100%|███████████████████████████████████████████████████████████████████████| 391/391 [00:19<00:00, 20.41it/s]\n",
      "Testing: 100%|██████████████████████████████████████████████████████████████████████████| 79/79 [00:01<00:00, 41.84it/s]\n"
     ]
    },
    {
     "name": "stdout",
     "output_type": "stream",
     "text": [
      "Epoch 45/50 | Test Acc: 94.23%\n"
     ]
    },
    {
     "name": "stderr",
     "output_type": "stream",
     "text": [
      "Training: 100%|███████████████████████████████████████████████████████████████████████| 391/391 [00:19<00:00, 20.21it/s]\n",
      "Testing: 100%|██████████████████████████████████████████████████████████████████████████| 79/79 [00:05<00:00, 14.05it/s]\n"
     ]
    },
    {
     "name": "stdout",
     "output_type": "stream",
     "text": [
      "Epoch 46/50 | Test Acc: 94.07%\n"
     ]
    },
    {
     "name": "stderr",
     "output_type": "stream",
     "text": [
      "Training: 100%|███████████████████████████████████████████████████████████████████████| 391/391 [00:19<00:00, 19.96it/s]\n",
      "Testing: 100%|██████████████████████████████████████████████████████████████████████████| 79/79 [00:01<00:00, 43.66it/s]\n"
     ]
    },
    {
     "name": "stdout",
     "output_type": "stream",
     "text": [
      "Epoch 47/50 | Test Acc: 94.08%\n"
     ]
    },
    {
     "name": "stderr",
     "output_type": "stream",
     "text": [
      "Training: 100%|███████████████████████████████████████████████████████████████████████| 391/391 [00:19<00:00, 20.57it/s]\n",
      "Testing: 100%|██████████████████████████████████████████████████████████████████████████| 79/79 [00:01<00:00, 44.07it/s]\n"
     ]
    },
    {
     "name": "stdout",
     "output_type": "stream",
     "text": [
      "Epoch 48/50 | Test Acc: 94.12%\n"
     ]
    },
    {
     "name": "stderr",
     "output_type": "stream",
     "text": [
      "Training: 100%|███████████████████████████████████████████████████████████████████████| 391/391 [00:19<00:00, 20.50it/s]\n",
      "Testing: 100%|██████████████████████████████████████████████████████████████████████████| 79/79 [00:04<00:00, 15.84it/s]\n"
     ]
    },
    {
     "name": "stdout",
     "output_type": "stream",
     "text": [
      "Epoch 49/50 | Test Acc: 94.17%\n"
     ]
    },
    {
     "name": "stderr",
     "output_type": "stream",
     "text": [
      "Training: 100%|███████████████████████████████████████████████████████████████████████| 391/391 [00:18<00:00, 20.70it/s]\n",
      "Testing: 100%|██████████████████████████████████████████████████████████████████████████| 79/79 [00:01<00:00, 43.49it/s]\n"
     ]
    },
    {
     "name": "stdout",
     "output_type": "stream",
     "text": [
      "Epoch 50/50 | Test Acc: 94.08%\n",
      "\n",
      "Training Stochastic Depth ResNet...\n"
     ]
    },
    {
     "name": "stderr",
     "output_type": "stream",
     "text": [
      "Training: 100%|███████████████████████████████████████████████████████████████████████| 391/391 [00:43<00:00,  8.98it/s]\n",
      "Testing: 100%|██████████████████████████████████████████████████████████████████████████| 79/79 [00:07<00:00, 10.46it/s]\n"
     ]
    },
    {
     "name": "stdout",
     "output_type": "stream",
     "text": [
      "Epoch 1/50 | Test Acc: 30.12%\n"
     ]
    },
    {
     "name": "stderr",
     "output_type": "stream",
     "text": [
      "Training: 100%|███████████████████████████████████████████████████████████████████████| 391/391 [00:17<00:00, 22.05it/s]\n",
      "Testing: 100%|██████████████████████████████████████████████████████████████████████████| 79/79 [00:01<00:00, 41.30it/s]\n"
     ]
    },
    {
     "name": "stdout",
     "output_type": "stream",
     "text": [
      "Epoch 2/50 | Test Acc: 39.51%\n"
     ]
    },
    {
     "name": "stderr",
     "output_type": "stream",
     "text": [
      "Training: 100%|███████████████████████████████████████████████████████████████████████| 391/391 [00:18<00:00, 21.54it/s]\n",
      "Testing: 100%|██████████████████████████████████████████████████████████████████████████| 79/79 [00:01<00:00, 43.50it/s]\n"
     ]
    },
    {
     "name": "stdout",
     "output_type": "stream",
     "text": [
      "Epoch 3/50 | Test Acc: 43.58%\n"
     ]
    },
    {
     "name": "stderr",
     "output_type": "stream",
     "text": [
      "Training: 100%|███████████████████████████████████████████████████████████████████████| 391/391 [00:18<00:00, 21.04it/s]\n",
      "Testing: 100%|██████████████████████████████████████████████████████████████████████████| 79/79 [00:11<00:00,  6.98it/s]\n"
     ]
    },
    {
     "name": "stdout",
     "output_type": "stream",
     "text": [
      "Epoch 4/50 | Test Acc: 45.67%\n"
     ]
    },
    {
     "name": "stderr",
     "output_type": "stream",
     "text": [
      "Training: 100%|███████████████████████████████████████████████████████████████████████| 391/391 [00:19<00:00, 19.76it/s]\n",
      "Testing: 100%|██████████████████████████████████████████████████████████████████████████| 79/79 [00:01<00:00, 44.62it/s]\n"
     ]
    },
    {
     "name": "stdout",
     "output_type": "stream",
     "text": [
      "Epoch 5/50 | Test Acc: 53.31%\n"
     ]
    },
    {
     "name": "stderr",
     "output_type": "stream",
     "text": [
      "Training: 100%|███████████████████████████████████████████████████████████████████████| 391/391 [00:18<00:00, 21.40it/s]\n",
      "Testing: 100%|██████████████████████████████████████████████████████████████████████████| 79/79 [00:01<00:00, 42.46it/s]\n"
     ]
    },
    {
     "name": "stdout",
     "output_type": "stream",
     "text": [
      "Epoch 6/50 | Test Acc: 58.20%\n"
     ]
    },
    {
     "name": "stderr",
     "output_type": "stream",
     "text": [
      "Training: 100%|███████████████████████████████████████████████████████████████████████| 391/391 [00:18<00:00, 21.51it/s]\n",
      "Testing: 100%|██████████████████████████████████████████████████████████████████████████| 79/79 [00:06<00:00, 12.38it/s]\n"
     ]
    },
    {
     "name": "stdout",
     "output_type": "stream",
     "text": [
      "Epoch 7/50 | Test Acc: 60.59%\n"
     ]
    },
    {
     "name": "stderr",
     "output_type": "stream",
     "text": [
      "Training: 100%|███████████████████████████████████████████████████████████████████████| 391/391 [00:17<00:00, 21.75it/s]\n",
      "Testing: 100%|██████████████████████████████████████████████████████████████████████████| 79/79 [00:01<00:00, 43.27it/s]\n"
     ]
    },
    {
     "name": "stdout",
     "output_type": "stream",
     "text": [
      "Epoch 8/50 | Test Acc: 63.59%\n"
     ]
    },
    {
     "name": "stderr",
     "output_type": "stream",
     "text": [
      "Training: 100%|███████████████████████████████████████████████████████████████████████| 391/391 [00:18<00:00, 21.44it/s]\n",
      "Testing: 100%|██████████████████████████████████████████████████████████████████████████| 79/79 [00:01<00:00, 40.48it/s]\n"
     ]
    },
    {
     "name": "stdout",
     "output_type": "stream",
     "text": [
      "Epoch 9/50 | Test Acc: 66.78%\n"
     ]
    },
    {
     "name": "stderr",
     "output_type": "stream",
     "text": [
      "Training: 100%|███████████████████████████████████████████████████████████████████████| 391/391 [00:18<00:00, 21.11it/s]\n",
      "Testing: 100%|██████████████████████████████████████████████████████████████████████████| 79/79 [00:08<00:00,  8.81it/s]\n"
     ]
    },
    {
     "name": "stdout",
     "output_type": "stream",
     "text": [
      "Epoch 10/50 | Test Acc: 64.04%\n"
     ]
    },
    {
     "name": "stderr",
     "output_type": "stream",
     "text": [
      "Training: 100%|███████████████████████████████████████████████████████████████████████| 391/391 [00:17<00:00, 22.09it/s]\n",
      "Testing: 100%|██████████████████████████████████████████████████████████████████████████| 79/79 [00:01<00:00, 44.17it/s]\n"
     ]
    },
    {
     "name": "stdout",
     "output_type": "stream",
     "text": [
      "Epoch 11/50 | Test Acc: 69.78%\n"
     ]
    },
    {
     "name": "stderr",
     "output_type": "stream",
     "text": [
      "Training: 100%|███████████████████████████████████████████████████████████████████████| 391/391 [00:18<00:00, 21.23it/s]\n",
      "Testing: 100%|██████████████████████████████████████████████████████████████████████████| 79/79 [00:01<00:00, 47.60it/s]\n"
     ]
    },
    {
     "name": "stdout",
     "output_type": "stream",
     "text": [
      "Epoch 12/50 | Test Acc: 65.87%\n"
     ]
    },
    {
     "name": "stderr",
     "output_type": "stream",
     "text": [
      "Training: 100%|███████████████████████████████████████████████████████████████████████| 391/391 [00:18<00:00, 21.15it/s]\n",
      "Testing: 100%|██████████████████████████████████████████████████████████████████████████| 79/79 [00:16<00:00,  4.84it/s]\n"
     ]
    },
    {
     "name": "stdout",
     "output_type": "stream",
     "text": [
      "Epoch 13/50 | Test Acc: 69.93%\n"
     ]
    },
    {
     "name": "stderr",
     "output_type": "stream",
     "text": [
      "Training: 100%|███████████████████████████████████████████████████████████████████████| 391/391 [00:18<00:00, 21.61it/s]\n",
      "Testing: 100%|██████████████████████████████████████████████████████████████████████████| 79/79 [00:01<00:00, 43.20it/s]\n"
     ]
    },
    {
     "name": "stdout",
     "output_type": "stream",
     "text": [
      "Epoch 14/50 | Test Acc: 71.05%\n"
     ]
    },
    {
     "name": "stderr",
     "output_type": "stream",
     "text": [
      "Training: 100%|███████████████████████████████████████████████████████████████████████| 391/391 [00:18<00:00, 21.37it/s]\n",
      "Testing: 100%|██████████████████████████████████████████████████████████████████████████| 79/79 [00:01<00:00, 42.47it/s]\n"
     ]
    },
    {
     "name": "stdout",
     "output_type": "stream",
     "text": [
      "Epoch 15/50 | Test Acc: 73.23%\n"
     ]
    },
    {
     "name": "stderr",
     "output_type": "stream",
     "text": [
      "Training: 100%|███████████████████████████████████████████████████████████████████████| 391/391 [00:18<00:00, 21.47it/s]\n",
      "Testing: 100%|██████████████████████████████████████████████████████████████████████████| 79/79 [00:11<00:00,  6.67it/s]\n"
     ]
    },
    {
     "name": "stdout",
     "output_type": "stream",
     "text": [
      "Epoch 16/50 | Test Acc: 71.16%\n"
     ]
    },
    {
     "name": "stderr",
     "output_type": "stream",
     "text": [
      "Training: 100%|███████████████████████████████████████████████████████████████████████| 391/391 [00:18<00:00, 21.51it/s]\n",
      "Testing: 100%|██████████████████████████████████████████████████████████████████████████| 79/79 [00:01<00:00, 45.02it/s]\n"
     ]
    },
    {
     "name": "stdout",
     "output_type": "stream",
     "text": [
      "Epoch 17/50 | Test Acc: 75.30%\n"
     ]
    },
    {
     "name": "stderr",
     "output_type": "stream",
     "text": [
      "Training: 100%|███████████████████████████████████████████████████████████████████████| 391/391 [00:18<00:00, 21.11it/s]\n",
      "Testing: 100%|██████████████████████████████████████████████████████████████████████████| 79/79 [00:01<00:00, 43.94it/s]\n"
     ]
    },
    {
     "name": "stdout",
     "output_type": "stream",
     "text": [
      "Epoch 18/50 | Test Acc: 69.44%\n"
     ]
    },
    {
     "name": "stderr",
     "output_type": "stream",
     "text": [
      "Training: 100%|███████████████████████████████████████████████████████████████████████| 391/391 [00:18<00:00, 21.33it/s]\n",
      "Testing: 100%|██████████████████████████████████████████████████████████████████████████| 79/79 [00:05<00:00, 15.31it/s]\n"
     ]
    },
    {
     "name": "stdout",
     "output_type": "stream",
     "text": [
      "Epoch 19/50 | Test Acc: 75.84%\n"
     ]
    },
    {
     "name": "stderr",
     "output_type": "stream",
     "text": [
      "Training: 100%|███████████████████████████████████████████████████████████████████████| 391/391 [00:18<00:00, 21.48it/s]\n",
      "Testing: 100%|██████████████████████████████████████████████████████████████████████████| 79/79 [00:01<00:00, 40.03it/s]\n"
     ]
    },
    {
     "name": "stdout",
     "output_type": "stream",
     "text": [
      "Epoch 20/50 | Test Acc: 74.67%\n"
     ]
    },
    {
     "name": "stderr",
     "output_type": "stream",
     "text": [
      "Training: 100%|███████████████████████████████████████████████████████████████████████| 391/391 [00:18<00:00, 21.31it/s]\n",
      "Testing: 100%|██████████████████████████████████████████████████████████████████████████| 79/79 [00:01<00:00, 42.81it/s]\n"
     ]
    },
    {
     "name": "stdout",
     "output_type": "stream",
     "text": [
      "Epoch 21/50 | Test Acc: 75.35%\n"
     ]
    },
    {
     "name": "stderr",
     "output_type": "stream",
     "text": [
      "Training: 100%|███████████████████████████████████████████████████████████████████████| 391/391 [00:18<00:00, 21.15it/s]\n",
      "Testing: 100%|██████████████████████████████████████████████████████████████████████████| 79/79 [00:08<00:00,  8.81it/s]\n"
     ]
    },
    {
     "name": "stdout",
     "output_type": "stream",
     "text": [
      "Epoch 22/50 | Test Acc: 76.58%\n"
     ]
    },
    {
     "name": "stderr",
     "output_type": "stream",
     "text": [
      "Training: 100%|███████████████████████████████████████████████████████████████████████| 391/391 [00:17<00:00, 21.88it/s]\n",
      "Testing: 100%|██████████████████████████████████████████████████████████████████████████| 79/79 [00:01<00:00, 44.70it/s]\n"
     ]
    },
    {
     "name": "stdout",
     "output_type": "stream",
     "text": [
      "Epoch 23/50 | Test Acc: 76.16%\n"
     ]
    },
    {
     "name": "stderr",
     "output_type": "stream",
     "text": [
      "Training: 100%|███████████████████████████████████████████████████████████████████████| 391/391 [00:18<00:00, 21.41it/s]\n",
      "Testing: 100%|██████████████████████████████████████████████████████████████████████████| 79/79 [00:01<00:00, 42.27it/s]\n"
     ]
    },
    {
     "name": "stdout",
     "output_type": "stream",
     "text": [
      "Epoch 24/50 | Test Acc: 79.24%\n"
     ]
    },
    {
     "name": "stderr",
     "output_type": "stream",
     "text": [
      "Training: 100%|███████████████████████████████████████████████████████████████████████| 391/391 [00:18<00:00, 21.17it/s]\n",
      "Testing: 100%|██████████████████████████████████████████████████████████████████████████| 79/79 [00:10<00:00,  7.29it/s]\n"
     ]
    },
    {
     "name": "stdout",
     "output_type": "stream",
     "text": [
      "Epoch 25/50 | Test Acc: 75.66%\n"
     ]
    },
    {
     "name": "stderr",
     "output_type": "stream",
     "text": [
      "Training: 100%|███████████████████████████████████████████████████████████████████████| 391/391 [00:17<00:00, 21.81it/s]\n",
      "Testing: 100%|██████████████████████████████████████████████████████████████████████████| 79/79 [00:01<00:00, 44.18it/s]\n"
     ]
    },
    {
     "name": "stdout",
     "output_type": "stream",
     "text": [
      "Epoch 26/50 | Test Acc: 76.74%\n"
     ]
    },
    {
     "name": "stderr",
     "output_type": "stream",
     "text": [
      "Training: 100%|███████████████████████████████████████████████████████████████████████| 391/391 [00:18<00:00, 21.42it/s]\n",
      "Testing: 100%|██████████████████████████████████████████████████████████████████████████| 79/79 [00:01<00:00, 45.73it/s]\n"
     ]
    },
    {
     "name": "stdout",
     "output_type": "stream",
     "text": [
      "Epoch 27/50 | Test Acc: 78.21%\n"
     ]
    },
    {
     "name": "stderr",
     "output_type": "stream",
     "text": [
      "Training: 100%|███████████████████████████████████████████████████████████████████████| 391/391 [00:18<00:00, 21.09it/s]\n",
      "Testing: 100%|██████████████████████████████████████████████████████████████████████████| 79/79 [00:13<00:00,  5.94it/s]\n"
     ]
    },
    {
     "name": "stdout",
     "output_type": "stream",
     "text": [
      "Epoch 28/50 | Test Acc: 77.45%\n"
     ]
    },
    {
     "name": "stderr",
     "output_type": "stream",
     "text": [
      "Training: 100%|███████████████████████████████████████████████████████████████████████| 391/391 [00:18<00:00, 21.62it/s]\n",
      "Testing: 100%|██████████████████████████████████████████████████████████████████████████| 79/79 [00:01<00:00, 46.34it/s]\n"
     ]
    },
    {
     "name": "stdout",
     "output_type": "stream",
     "text": [
      "Epoch 29/50 | Test Acc: 78.79%\n"
     ]
    },
    {
     "name": "stderr",
     "output_type": "stream",
     "text": [
      "Training: 100%|███████████████████████████████████████████████████████████████████████| 391/391 [00:18<00:00, 21.28it/s]\n",
      "Testing: 100%|██████████████████████████████████████████████████████████████████████████| 79/79 [00:01<00:00, 41.74it/s]\n"
     ]
    },
    {
     "name": "stdout",
     "output_type": "stream",
     "text": [
      "Epoch 30/50 | Test Acc: 78.60%\n"
     ]
    },
    {
     "name": "stderr",
     "output_type": "stream",
     "text": [
      "Training: 100%|███████████████████████████████████████████████████████████████████████| 391/391 [00:18<00:00, 21.37it/s]\n",
      "Testing: 100%|██████████████████████████████████████████████████████████████████████████| 79/79 [00:09<00:00,  7.96it/s]\n"
     ]
    },
    {
     "name": "stdout",
     "output_type": "stream",
     "text": [
      "Epoch 31/50 | Test Acc: 84.57%\n"
     ]
    },
    {
     "name": "stderr",
     "output_type": "stream",
     "text": [
      "Training: 100%|███████████████████████████████████████████████████████████████████████| 391/391 [00:18<00:00, 21.46it/s]\n",
      "Testing: 100%|██████████████████████████████████████████████████████████████████████████| 79/79 [00:01<00:00, 48.29it/s]\n"
     ]
    },
    {
     "name": "stdout",
     "output_type": "stream",
     "text": [
      "Epoch 32/50 | Test Acc: 85.84%\n"
     ]
    },
    {
     "name": "stderr",
     "output_type": "stream",
     "text": [
      "Training: 100%|███████████████████████████████████████████████████████████████████████| 391/391 [00:18<00:00, 21.19it/s]\n",
      "Testing: 100%|██████████████████████████████████████████████████████████████████████████| 79/79 [00:01<00:00, 44.79it/s]\n"
     ]
    },
    {
     "name": "stdout",
     "output_type": "stream",
     "text": [
      "Epoch 33/50 | Test Acc: 86.06%\n"
     ]
    },
    {
     "name": "stderr",
     "output_type": "stream",
     "text": [
      "Training: 100%|███████████████████████████████████████████████████████████████████████| 391/391 [00:18<00:00, 21.16it/s]\n",
      "Testing: 100%|██████████████████████████████████████████████████████████████████████████| 79/79 [00:08<00:00,  9.65it/s]\n"
     ]
    },
    {
     "name": "stdout",
     "output_type": "stream",
     "text": [
      "Epoch 34/50 | Test Acc: 86.32%\n"
     ]
    },
    {
     "name": "stderr",
     "output_type": "stream",
     "text": [
      "Training: 100%|███████████████████████████████████████████████████████████████████████| 391/391 [00:18<00:00, 21.68it/s]\n",
      "Testing: 100%|██████████████████████████████████████████████████████████████████████████| 79/79 [00:01<00:00, 42.92it/s]\n"
     ]
    },
    {
     "name": "stdout",
     "output_type": "stream",
     "text": [
      "Epoch 35/50 | Test Acc: 86.87%\n"
     ]
    },
    {
     "name": "stderr",
     "output_type": "stream",
     "text": [
      "Training: 100%|███████████████████████████████████████████████████████████████████████| 391/391 [00:18<00:00, 21.55it/s]\n",
      "Testing: 100%|██████████████████████████████████████████████████████████████████████████| 79/79 [00:01<00:00, 43.62it/s]\n"
     ]
    },
    {
     "name": "stdout",
     "output_type": "stream",
     "text": [
      "Epoch 36/50 | Test Acc: 86.46%\n"
     ]
    },
    {
     "name": "stderr",
     "output_type": "stream",
     "text": [
      "Training: 100%|███████████████████████████████████████████████████████████████████████| 391/391 [00:18<00:00, 21.26it/s]\n",
      "Testing: 100%|██████████████████████████████████████████████████████████████████████████| 79/79 [00:07<00:00, 11.17it/s]\n"
     ]
    },
    {
     "name": "stdout",
     "output_type": "stream",
     "text": [
      "Epoch 37/50 | Test Acc: 87.00%\n"
     ]
    },
    {
     "name": "stderr",
     "output_type": "stream",
     "text": [
      "Training: 100%|███████████████████████████████████████████████████████████████████████| 391/391 [00:18<00:00, 21.53it/s]\n",
      "Testing: 100%|██████████████████████████████████████████████████████████████████████████| 79/79 [00:01<00:00, 45.47it/s]\n"
     ]
    },
    {
     "name": "stdout",
     "output_type": "stream",
     "text": [
      "Epoch 38/50 | Test Acc: 87.02%\n"
     ]
    },
    {
     "name": "stderr",
     "output_type": "stream",
     "text": [
      "Training: 100%|███████████████████████████████████████████████████████████████████████| 391/391 [00:18<00:00, 21.38it/s]\n",
      "Testing: 100%|██████████████████████████████████████████████████████████████████████████| 79/79 [00:01<00:00, 40.66it/s]\n"
     ]
    },
    {
     "name": "stdout",
     "output_type": "stream",
     "text": [
      "Epoch 39/50 | Test Acc: 87.19%\n"
     ]
    },
    {
     "name": "stderr",
     "output_type": "stream",
     "text": [
      "Training: 100%|███████████████████████████████████████████████████████████████████████| 391/391 [00:18<00:00, 21.19it/s]\n",
      "Testing: 100%|██████████████████████████████████████████████████████████████████████████| 79/79 [00:10<00:00,  7.54it/s]\n"
     ]
    },
    {
     "name": "stdout",
     "output_type": "stream",
     "text": [
      "Epoch 40/50 | Test Acc: 87.45%\n"
     ]
    },
    {
     "name": "stderr",
     "output_type": "stream",
     "text": [
      "Training: 100%|███████████████████████████████████████████████████████████████████████| 391/391 [00:18<00:00, 21.34it/s]\n",
      "Testing: 100%|██████████████████████████████████████████████████████████████████████████| 79/79 [00:01<00:00, 41.96it/s]\n"
     ]
    },
    {
     "name": "stdout",
     "output_type": "stream",
     "text": [
      "Epoch 41/50 | Test Acc: 88.38%\n"
     ]
    },
    {
     "name": "stderr",
     "output_type": "stream",
     "text": [
      "Training: 100%|███████████████████████████████████████████████████████████████████████| 391/391 [00:18<00:00, 21.35it/s]\n",
      "Testing: 100%|██████████████████████████████████████████████████████████████████████████| 79/79 [00:01<00:00, 45.15it/s]\n"
     ]
    },
    {
     "name": "stdout",
     "output_type": "stream",
     "text": [
      "Epoch 42/50 | Test Acc: 88.19%\n"
     ]
    },
    {
     "name": "stderr",
     "output_type": "stream",
     "text": [
      "Training: 100%|███████████████████████████████████████████████████████████████████████| 391/391 [00:18<00:00, 21.63it/s]\n",
      "Testing: 100%|██████████████████████████████████████████████████████████████████████████| 79/79 [00:15<00:00,  5.12it/s]\n"
     ]
    },
    {
     "name": "stdout",
     "output_type": "stream",
     "text": [
      "Epoch 43/50 | Test Acc: 88.42%\n"
     ]
    },
    {
     "name": "stderr",
     "output_type": "stream",
     "text": [
      "Training: 100%|███████████████████████████████████████████████████████████████████████| 391/391 [00:18<00:00, 21.60it/s]\n",
      "Testing: 100%|██████████████████████████████████████████████████████████████████████████| 79/79 [00:01<00:00, 42.00it/s]\n"
     ]
    },
    {
     "name": "stdout",
     "output_type": "stream",
     "text": [
      "Epoch 44/50 | Test Acc: 88.26%\n"
     ]
    },
    {
     "name": "stderr",
     "output_type": "stream",
     "text": [
      "Training: 100%|███████████████████████████████████████████████████████████████████████| 391/391 [00:18<00:00, 21.15it/s]\n",
      "Testing: 100%|██████████████████████████████████████████████████████████████████████████| 79/79 [00:03<00:00, 25.21it/s]\n"
     ]
    },
    {
     "name": "stdout",
     "output_type": "stream",
     "text": [
      "Epoch 45/50 | Test Acc: 88.30%\n"
     ]
    },
    {
     "name": "stderr",
     "output_type": "stream",
     "text": [
      "Training: 100%|███████████████████████████████████████████████████████████████████████| 391/391 [00:18<00:00, 21.32it/s]\n",
      "Testing: 100%|██████████████████████████████████████████████████████████████████████████| 79/79 [00:12<00:00,  6.41it/s]\n"
     ]
    },
    {
     "name": "stdout",
     "output_type": "stream",
     "text": [
      "Epoch 46/50 | Test Acc: 88.48%\n"
     ]
    },
    {
     "name": "stderr",
     "output_type": "stream",
     "text": [
      "Training: 100%|███████████████████████████████████████████████████████████████████████| 391/391 [00:17<00:00, 21.97it/s]\n",
      "Testing: 100%|██████████████████████████████████████████████████████████████████████████| 79/79 [00:01<00:00, 43.48it/s]\n"
     ]
    },
    {
     "name": "stdout",
     "output_type": "stream",
     "text": [
      "Epoch 47/50 | Test Acc: 88.48%\n"
     ]
    },
    {
     "name": "stderr",
     "output_type": "stream",
     "text": [
      "Training: 100%|███████████████████████████████████████████████████████████████████████| 391/391 [00:18<00:00, 21.20it/s]\n",
      "Testing: 100%|██████████████████████████████████████████████████████████████████████████| 79/79 [00:01<00:00, 41.97it/s]\n"
     ]
    },
    {
     "name": "stdout",
     "output_type": "stream",
     "text": [
      "Epoch 48/50 | Test Acc: 88.57%\n"
     ]
    },
    {
     "name": "stderr",
     "output_type": "stream",
     "text": [
      "Training: 100%|███████████████████████████████████████████████████████████████████████| 391/391 [00:18<00:00, 21.17it/s]\n",
      "Testing: 100%|██████████████████████████████████████████████████████████████████████████| 79/79 [00:15<00:00,  4.96it/s]\n"
     ]
    },
    {
     "name": "stdout",
     "output_type": "stream",
     "text": [
      "Epoch 49/50 | Test Acc: 88.61%\n"
     ]
    },
    {
     "name": "stderr",
     "output_type": "stream",
     "text": [
      "Training: 100%|███████████████████████████████████████████████████████████████████████| 391/391 [00:18<00:00, 21.49it/s]\n",
      "Testing: 100%|██████████████████████████████████████████████████████████████████████████| 79/79 [00:01<00:00, 42.86it/s]"
     ]
    },
    {
     "name": "stdout",
     "output_type": "stream",
     "text": [
      "Epoch 50/50 | Test Acc: 88.82%\n"
     ]
    },
    {
     "name": "stderr",
     "output_type": "stream",
     "text": [
      "\n"
     ]
    }
   ],
   "source": [
    "models = {\n",
    "    \"Original ResNet\": ResNet(BasicBlock, [2, 2, 2, 2]),\n",
    "    \"ResNeXt\": ResNet(ResNeXtBlock, [2, 2, 2, 2], cardinality=32),\n",
    "    \"SE-ResNet\": ResNet(SEResNetBlock, [2, 2, 2, 2]),\n",
    "    \"Stochastic Depth ResNet\": ResNet(SDResNetBlock, [2, 2, 2, 2], p=0.5)\n",
    "}\n",
    "\n",
    "results = {name: {\"train_loss\": [], \"train_acc\": [], \"test_loss\": [], \"test_acc\": []} \n",
    "           for name in models.keys()}\n",
    "\n",
    "epochs = 50\n",
    "criterion = nn.CrossEntropyLoss()\n",
    "\n",
    "for name, model in models.items():\n",
    "    print(f\"\\nTraining {name}...\")\n",
    "    model = model.to(device)\n",
    "    optimizer = optim.SGD(model.parameters(), lr=0.1, momentum=0.9, weight_decay=5e-4)\n",
    "    scheduler = optim.lr_scheduler.MultiStepLR(optimizer, milestones=[30, 40], gamma=0.1)\n",
    "    \n",
    "    for epoch in range(epochs):\n",
    "        train_loss, train_acc = train(model, train_loader, optimizer, criterion)\n",
    "        test_loss, test_acc = test(model, test_loader, criterion)\n",
    "        scheduler.step()\n",
    "        \n",
    "        results[name][\"train_loss\"].append(train_loss)\n",
    "        results[name][\"train_acc\"].append(train_acc)\n",
    "        results[name][\"test_loss\"].append(test_loss)\n",
    "        results[name][\"test_acc\"].append(test_acc)\n",
    "        \n",
    "        print(f\"Epoch {epoch+1}/{epochs} | Test Acc: {test_acc:.2f}%\")"
   ]
  },
  {
   "cell_type": "code",
   "execution_count": null,
   "id": "70c2f980-5902-4127-8f09-ae20dbe2dc78",
   "metadata": {
    "tags": []
   },
   "outputs": [
    {
     "data": {
      "image/png": "[encoded data removed]",
      "text/plain": [
       "<Figure size 1500x600 with 2 Axes>"
      ]
     },
     "metadata": {},
     "output_type": "display_data"
    },
    {
     "name": "stdout",
     "output_type": "stream",
     "text": [
      "\n",
      "Final Test Accuracy:\n",
      "Original ResNet: 93.73%\n",
      "ResNeXt: 92.76%\n",
      "SE-ResNet: 94.23%\n",
      "Stochastic Depth ResNet: 88.82%\n"
     ]
    },
    {
     "name": "stderr",
     "output_type": "stream",
     "text": [
      "IOStream.flush timed out\n"
     ]
    }
   ],
   "source": [
    "plt.figure(figsize=(15, 6))\n",
    "\n",
    "plt.subplot(1, 2, 1)\n",
    "for name in models.keys():\n",
    "    plt.plot(results[name][\"test_acc\"], label=name)\n",
    "plt.title(\"Test Accuracy Comparison\")\n",
    "plt.xlabel(\"Epoch\")\n",
    "plt.ylabel(\"Accuracy (%)\")\n",
    "plt.legend()\n",
    "\n",
    "plt.subplot(1, 2, 2)\n",
    "for name in models.keys():\n",
    "    plt.plot(results[name][\"train_loss\"], label=name)\n",
    "plt.title(\"Training Loss Comparison\")\n",
    "plt.xlabel(\"Epoch\")\n",
    "plt.ylabel(\"Loss\")\n",
    "plt.legend()\n",
    "\n",
    "plt.tight_layout()\n",
    "plt.savefig(\"resnet_variants_comparison.png\")\n",
    "plt.show()\n",
    "\n",
    "print(\"\\nFinal Test Accuracy:\")\n",
    "for name in models.keys():\n",
    "    print(f\"{name}: {max(results[name]['test_acc']):.2f}%\")"
   ]
  },
  {
   "cell_type": "code",
   "execution_count": null,
   "id": "4b3a089b-ddec-434f-885b-0d37cb7fe577",
   "metadata": {},
   "outputs": [],
   "source": []
  }
 ],
 "metadata": {
  "kernelspec": {
   "display_name": "7606_assign1",
   "language": "python",
   "name": "7606_assign1"
  },
  "language_info": {
   "codemirror_mode": {
    "name": "ipython",
    "version": 3
   },
   "file_extension": ".py",
   "mimetype": "text/x-python",
   "name": "python",
   "nbconvert_exporter": "python",
   "pygments_lexer": "ipython3",
   "version": "3.10.14"
  }
 },
 "nbformat": 4,
 "nbformat_minor": 5
}
